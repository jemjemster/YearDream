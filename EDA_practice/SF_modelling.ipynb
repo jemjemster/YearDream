{
  "nbformat": 4,
  "nbformat_minor": 0,
  "metadata": {
    "colab": {
      "name": "SF_modelling.ipynb",
      "provenance": [],
      "collapsed_sections": []
    },
    "kernelspec": {
      "name": "python3",
      "display_name": "Python 3"
    },
    "language_info": {
      "name": "python"
    }
  },
  "cells": [
    {
      "cell_type": "code",
      "execution_count": 1,
      "metadata": {
        "colab": {
          "base_uri": "https://localhost:8080/"
        },
        "id": "ho4TdTAVEwzO",
        "outputId": "54ec0e3a-cf28-4eb9-dc73-00ffc5da1c88"
      },
      "outputs": [
        {
          "output_type": "stream",
          "name": "stdout",
          "text": [
            "Drive already mounted at /content/drive; to attempt to forcibly remount, call drive.mount(\"/content/drive\", force_remount=True).\n"
          ]
        }
      ],
      "source": [
        "from google.colab import drive\n",
        "drive.mount('/content/drive')"
      ]
    },
    {
      "cell_type": "code",
      "source": [
        "# 필요모듈 import\n",
        "import numpy as np\n",
        "import pandas as pd\n",
        "import seaborn as sns  \n",
        "import matplotlib.pylab as plt"
      ],
      "metadata": {
        "id": "5OaVnKtxE8kj"
      },
      "execution_count": 2,
      "outputs": []
    },
    {
      "cell_type": "code",
      "source": [
        "# train.csv 파일 읽어옴. dataframe 형태로 반환\n",
        "train = pd.read_csv('/content/drive/MyDrive/Colab Notebooks/EDA 실습/SF_data/train.csv')"
      ],
      "metadata": {
        "id": "hWAUSy4JFWkJ"
      },
      "execution_count": 3,
      "outputs": []
    },
    {
      "cell_type": "markdown",
      "source": [
        "## visualization"
      ],
      "metadata": {
        "id": "HmFNElOhFHcX"
      }
    },
    {
      "cell_type": "code",
      "source": [
        "# datatype 변경\n",
        "train['Dates'] = train['Dates'].astype('datetime64')"
      ],
      "metadata": {
        "id": "6F3TYZCWIVZb"
      },
      "execution_count": 4,
      "outputs": []
    },
    {
      "cell_type": "code",
      "source": [
        "# new column 생성\n",
        "train['year'] = train['Dates'].dt.year\n",
        "train['month'] = train['Dates'].dt.month\n",
        "train['day'] = train['Dates'].dt.day\n",
        "train['dayofweek'] = train['Dates'].dt.dayofweek\n",
        "train['hour'] = train['Dates'].dt.hour\n",
        "train['minute'] = train['Dates'].dt.minute\n",
        "train"
      ],
      "metadata": {
        "colab": {
          "base_uri": "https://localhost:8080/",
          "height": 1000
        },
        "id": "39ZI66x6IWjr",
        "outputId": "456d2163-52b8-4455-9a17-f68dc4209463"
      },
      "execution_count": 5,
      "outputs": [
        {
          "output_type": "execute_result",
          "data": {
            "text/plain": [
              "                     Dates                Category  \\\n",
              "0      2015-05-13 23:53:00                WARRANTS   \n",
              "1      2015-05-13 23:53:00          OTHER OFFENSES   \n",
              "2      2015-05-13 23:33:00          OTHER OFFENSES   \n",
              "3      2015-05-13 23:30:00           LARCENY/THEFT   \n",
              "4      2015-05-13 23:30:00           LARCENY/THEFT   \n",
              "...                    ...                     ...   \n",
              "878044 2003-01-06 00:15:00                 ROBBERY   \n",
              "878045 2003-01-06 00:01:00           LARCENY/THEFT   \n",
              "878046 2003-01-06 00:01:00           LARCENY/THEFT   \n",
              "878047 2003-01-06 00:01:00               VANDALISM   \n",
              "878048 2003-01-06 00:01:00  FORGERY/COUNTERFEITING   \n",
              "\n",
              "                                         Descript  DayOfWeek PdDistrict  \\\n",
              "0                                  WARRANT ARREST  Wednesday   NORTHERN   \n",
              "1                        TRAFFIC VIOLATION ARREST  Wednesday   NORTHERN   \n",
              "2                        TRAFFIC VIOLATION ARREST  Wednesday   NORTHERN   \n",
              "3                    GRAND THEFT FROM LOCKED AUTO  Wednesday   NORTHERN   \n",
              "4                    GRAND THEFT FROM LOCKED AUTO  Wednesday       PARK   \n",
              "...                                           ...        ...        ...   \n",
              "878044           ROBBERY ON THE STREET WITH A GUN     Monday    TARAVAL   \n",
              "878045               GRAND THEFT FROM LOCKED AUTO     Monday  INGLESIDE   \n",
              "878046               GRAND THEFT FROM LOCKED AUTO     Monday   SOUTHERN   \n",
              "878047  MALICIOUS MISCHIEF, VANDALISM OF VEHICLES     Monday   SOUTHERN   \n",
              "878048                   CHECKS, FORGERY (FELONY)     Monday    BAYVIEW   \n",
              "\n",
              "            Resolution                     Address           X          Y  \\\n",
              "0       ARREST, BOOKED          OAK ST / LAGUNA ST -122.425892  37.774599   \n",
              "1       ARREST, BOOKED          OAK ST / LAGUNA ST -122.425892  37.774599   \n",
              "2       ARREST, BOOKED   VANNESS AV / GREENWICH ST -122.424363  37.800414   \n",
              "3                 NONE    1500 Block of LOMBARD ST -122.426995  37.800873   \n",
              "4                 NONE   100 Block of BRODERICK ST -122.438738  37.771541   \n",
              "...                ...                         ...         ...        ...   \n",
              "878044            NONE  FARALLONES ST / CAPITOL AV -122.459033  37.714056   \n",
              "878045            NONE        600 Block of EDNA ST -122.447364  37.731948   \n",
              "878046            NONE          5TH ST / FOLSOM ST -122.403390  37.780266   \n",
              "878047            NONE        TOWNSEND ST / 2ND ST -122.390531  37.780607   \n",
              "878048            NONE    1800 Block of NEWCOMB AV -122.394926  37.738212   \n",
              "\n",
              "        year  month  day  dayofweek  hour  minute  \n",
              "0       2015      5   13          2    23      53  \n",
              "1       2015      5   13          2    23      53  \n",
              "2       2015      5   13          2    23      33  \n",
              "3       2015      5   13          2    23      30  \n",
              "4       2015      5   13          2    23      30  \n",
              "...      ...    ...  ...        ...   ...     ...  \n",
              "878044  2003      1    6          0     0      15  \n",
              "878045  2003      1    6          0     0       1  \n",
              "878046  2003      1    6          0     0       1  \n",
              "878047  2003      1    6          0     0       1  \n",
              "878048  2003      1    6          0     0       1  \n",
              "\n",
              "[878049 rows x 15 columns]"
            ],
            "text/html": [
              "\n",
              "  <div id=\"df-5fc3dbe2-227f-4ce0-aaac-16db8bfade8a\">\n",
              "    <div class=\"colab-df-container\">\n",
              "      <div>\n",
              "<style scoped>\n",
              "    .dataframe tbody tr th:only-of-type {\n",
              "        vertical-align: middle;\n",
              "    }\n",
              "\n",
              "    .dataframe tbody tr th {\n",
              "        vertical-align: top;\n",
              "    }\n",
              "\n",
              "    .dataframe thead th {\n",
              "        text-align: right;\n",
              "    }\n",
              "</style>\n",
              "<table border=\"1\" class=\"dataframe\">\n",
              "  <thead>\n",
              "    <tr style=\"text-align: right;\">\n",
              "      <th></th>\n",
              "      <th>Dates</th>\n",
              "      <th>Category</th>\n",
              "      <th>Descript</th>\n",
              "      <th>DayOfWeek</th>\n",
              "      <th>PdDistrict</th>\n",
              "      <th>Resolution</th>\n",
              "      <th>Address</th>\n",
              "      <th>X</th>\n",
              "      <th>Y</th>\n",
              "      <th>year</th>\n",
              "      <th>month</th>\n",
              "      <th>day</th>\n",
              "      <th>dayofweek</th>\n",
              "      <th>hour</th>\n",
              "      <th>minute</th>\n",
              "    </tr>\n",
              "  </thead>\n",
              "  <tbody>\n",
              "    <tr>\n",
              "      <th>0</th>\n",
              "      <td>2015-05-13 23:53:00</td>\n",
              "      <td>WARRANTS</td>\n",
              "      <td>WARRANT ARREST</td>\n",
              "      <td>Wednesday</td>\n",
              "      <td>NORTHERN</td>\n",
              "      <td>ARREST, BOOKED</td>\n",
              "      <td>OAK ST / LAGUNA ST</td>\n",
              "      <td>-122.425892</td>\n",
              "      <td>37.774599</td>\n",
              "      <td>2015</td>\n",
              "      <td>5</td>\n",
              "      <td>13</td>\n",
              "      <td>2</td>\n",
              "      <td>23</td>\n",
              "      <td>53</td>\n",
              "    </tr>\n",
              "    <tr>\n",
              "      <th>1</th>\n",
              "      <td>2015-05-13 23:53:00</td>\n",
              "      <td>OTHER OFFENSES</td>\n",
              "      <td>TRAFFIC VIOLATION ARREST</td>\n",
              "      <td>Wednesday</td>\n",
              "      <td>NORTHERN</td>\n",
              "      <td>ARREST, BOOKED</td>\n",
              "      <td>OAK ST / LAGUNA ST</td>\n",
              "      <td>-122.425892</td>\n",
              "      <td>37.774599</td>\n",
              "      <td>2015</td>\n",
              "      <td>5</td>\n",
              "      <td>13</td>\n",
              "      <td>2</td>\n",
              "      <td>23</td>\n",
              "      <td>53</td>\n",
              "    </tr>\n",
              "    <tr>\n",
              "      <th>2</th>\n",
              "      <td>2015-05-13 23:33:00</td>\n",
              "      <td>OTHER OFFENSES</td>\n",
              "      <td>TRAFFIC VIOLATION ARREST</td>\n",
              "      <td>Wednesday</td>\n",
              "      <td>NORTHERN</td>\n",
              "      <td>ARREST, BOOKED</td>\n",
              "      <td>VANNESS AV / GREENWICH ST</td>\n",
              "      <td>-122.424363</td>\n",
              "      <td>37.800414</td>\n",
              "      <td>2015</td>\n",
              "      <td>5</td>\n",
              "      <td>13</td>\n",
              "      <td>2</td>\n",
              "      <td>23</td>\n",
              "      <td>33</td>\n",
              "    </tr>\n",
              "    <tr>\n",
              "      <th>3</th>\n",
              "      <td>2015-05-13 23:30:00</td>\n",
              "      <td>LARCENY/THEFT</td>\n",
              "      <td>GRAND THEFT FROM LOCKED AUTO</td>\n",
              "      <td>Wednesday</td>\n",
              "      <td>NORTHERN</td>\n",
              "      <td>NONE</td>\n",
              "      <td>1500 Block of LOMBARD ST</td>\n",
              "      <td>-122.426995</td>\n",
              "      <td>37.800873</td>\n",
              "      <td>2015</td>\n",
              "      <td>5</td>\n",
              "      <td>13</td>\n",
              "      <td>2</td>\n",
              "      <td>23</td>\n",
              "      <td>30</td>\n",
              "    </tr>\n",
              "    <tr>\n",
              "      <th>4</th>\n",
              "      <td>2015-05-13 23:30:00</td>\n",
              "      <td>LARCENY/THEFT</td>\n",
              "      <td>GRAND THEFT FROM LOCKED AUTO</td>\n",
              "      <td>Wednesday</td>\n",
              "      <td>PARK</td>\n",
              "      <td>NONE</td>\n",
              "      <td>100 Block of BRODERICK ST</td>\n",
              "      <td>-122.438738</td>\n",
              "      <td>37.771541</td>\n",
              "      <td>2015</td>\n",
              "      <td>5</td>\n",
              "      <td>13</td>\n",
              "      <td>2</td>\n",
              "      <td>23</td>\n",
              "      <td>30</td>\n",
              "    </tr>\n",
              "    <tr>\n",
              "      <th>...</th>\n",
              "      <td>...</td>\n",
              "      <td>...</td>\n",
              "      <td>...</td>\n",
              "      <td>...</td>\n",
              "      <td>...</td>\n",
              "      <td>...</td>\n",
              "      <td>...</td>\n",
              "      <td>...</td>\n",
              "      <td>...</td>\n",
              "      <td>...</td>\n",
              "      <td>...</td>\n",
              "      <td>...</td>\n",
              "      <td>...</td>\n",
              "      <td>...</td>\n",
              "      <td>...</td>\n",
              "    </tr>\n",
              "    <tr>\n",
              "      <th>878044</th>\n",
              "      <td>2003-01-06 00:15:00</td>\n",
              "      <td>ROBBERY</td>\n",
              "      <td>ROBBERY ON THE STREET WITH A GUN</td>\n",
              "      <td>Monday</td>\n",
              "      <td>TARAVAL</td>\n",
              "      <td>NONE</td>\n",
              "      <td>FARALLONES ST / CAPITOL AV</td>\n",
              "      <td>-122.459033</td>\n",
              "      <td>37.714056</td>\n",
              "      <td>2003</td>\n",
              "      <td>1</td>\n",
              "      <td>6</td>\n",
              "      <td>0</td>\n",
              "      <td>0</td>\n",
              "      <td>15</td>\n",
              "    </tr>\n",
              "    <tr>\n",
              "      <th>878045</th>\n",
              "      <td>2003-01-06 00:01:00</td>\n",
              "      <td>LARCENY/THEFT</td>\n",
              "      <td>GRAND THEFT FROM LOCKED AUTO</td>\n",
              "      <td>Monday</td>\n",
              "      <td>INGLESIDE</td>\n",
              "      <td>NONE</td>\n",
              "      <td>600 Block of EDNA ST</td>\n",
              "      <td>-122.447364</td>\n",
              "      <td>37.731948</td>\n",
              "      <td>2003</td>\n",
              "      <td>1</td>\n",
              "      <td>6</td>\n",
              "      <td>0</td>\n",
              "      <td>0</td>\n",
              "      <td>1</td>\n",
              "    </tr>\n",
              "    <tr>\n",
              "      <th>878046</th>\n",
              "      <td>2003-01-06 00:01:00</td>\n",
              "      <td>LARCENY/THEFT</td>\n",
              "      <td>GRAND THEFT FROM LOCKED AUTO</td>\n",
              "      <td>Monday</td>\n",
              "      <td>SOUTHERN</td>\n",
              "      <td>NONE</td>\n",
              "      <td>5TH ST / FOLSOM ST</td>\n",
              "      <td>-122.403390</td>\n",
              "      <td>37.780266</td>\n",
              "      <td>2003</td>\n",
              "      <td>1</td>\n",
              "      <td>6</td>\n",
              "      <td>0</td>\n",
              "      <td>0</td>\n",
              "      <td>1</td>\n",
              "    </tr>\n",
              "    <tr>\n",
              "      <th>878047</th>\n",
              "      <td>2003-01-06 00:01:00</td>\n",
              "      <td>VANDALISM</td>\n",
              "      <td>MALICIOUS MISCHIEF, VANDALISM OF VEHICLES</td>\n",
              "      <td>Monday</td>\n",
              "      <td>SOUTHERN</td>\n",
              "      <td>NONE</td>\n",
              "      <td>TOWNSEND ST / 2ND ST</td>\n",
              "      <td>-122.390531</td>\n",
              "      <td>37.780607</td>\n",
              "      <td>2003</td>\n",
              "      <td>1</td>\n",
              "      <td>6</td>\n",
              "      <td>0</td>\n",
              "      <td>0</td>\n",
              "      <td>1</td>\n",
              "    </tr>\n",
              "    <tr>\n",
              "      <th>878048</th>\n",
              "      <td>2003-01-06 00:01:00</td>\n",
              "      <td>FORGERY/COUNTERFEITING</td>\n",
              "      <td>CHECKS, FORGERY (FELONY)</td>\n",
              "      <td>Monday</td>\n",
              "      <td>BAYVIEW</td>\n",
              "      <td>NONE</td>\n",
              "      <td>1800 Block of NEWCOMB AV</td>\n",
              "      <td>-122.394926</td>\n",
              "      <td>37.738212</td>\n",
              "      <td>2003</td>\n",
              "      <td>1</td>\n",
              "      <td>6</td>\n",
              "      <td>0</td>\n",
              "      <td>0</td>\n",
              "      <td>1</td>\n",
              "    </tr>\n",
              "  </tbody>\n",
              "</table>\n",
              "<p>878049 rows × 15 columns</p>\n",
              "</div>\n",
              "      <button class=\"colab-df-convert\" onclick=\"convertToInteractive('df-5fc3dbe2-227f-4ce0-aaac-16db8bfade8a')\"\n",
              "              title=\"Convert this dataframe to an interactive table.\"\n",
              "              style=\"display:none;\">\n",
              "        \n",
              "  <svg xmlns=\"http://www.w3.org/2000/svg\" height=\"24px\"viewBox=\"0 0 24 24\"\n",
              "       width=\"24px\">\n",
              "    <path d=\"M0 0h24v24H0V0z\" fill=\"none\"/>\n",
              "    <path d=\"M18.56 5.44l.94 2.06.94-2.06 2.06-.94-2.06-.94-.94-2.06-.94 2.06-2.06.94zm-11 1L8.5 8.5l.94-2.06 2.06-.94-2.06-.94L8.5 2.5l-.94 2.06-2.06.94zm10 10l.94 2.06.94-2.06 2.06-.94-2.06-.94-.94-2.06-.94 2.06-2.06.94z\"/><path d=\"M17.41 7.96l-1.37-1.37c-.4-.4-.92-.59-1.43-.59-.52 0-1.04.2-1.43.59L10.3 9.45l-7.72 7.72c-.78.78-.78 2.05 0 2.83L4 21.41c.39.39.9.59 1.41.59.51 0 1.02-.2 1.41-.59l7.78-7.78 2.81-2.81c.8-.78.8-2.07 0-2.86zM5.41 20L4 18.59l7.72-7.72 1.47 1.35L5.41 20z\"/>\n",
              "  </svg>\n",
              "      </button>\n",
              "      \n",
              "  <style>\n",
              "    .colab-df-container {\n",
              "      display:flex;\n",
              "      flex-wrap:wrap;\n",
              "      gap: 12px;\n",
              "    }\n",
              "\n",
              "    .colab-df-convert {\n",
              "      background-color: #E8F0FE;\n",
              "      border: none;\n",
              "      border-radius: 50%;\n",
              "      cursor: pointer;\n",
              "      display: none;\n",
              "      fill: #1967D2;\n",
              "      height: 32px;\n",
              "      padding: 0 0 0 0;\n",
              "      width: 32px;\n",
              "    }\n",
              "\n",
              "    .colab-df-convert:hover {\n",
              "      background-color: #E2EBFA;\n",
              "      box-shadow: 0px 1px 2px rgba(60, 64, 67, 0.3), 0px 1px 3px 1px rgba(60, 64, 67, 0.15);\n",
              "      fill: #174EA6;\n",
              "    }\n",
              "\n",
              "    [theme=dark] .colab-df-convert {\n",
              "      background-color: #3B4455;\n",
              "      fill: #D2E3FC;\n",
              "    }\n",
              "\n",
              "    [theme=dark] .colab-df-convert:hover {\n",
              "      background-color: #434B5C;\n",
              "      box-shadow: 0px 1px 3px 1px rgba(0, 0, 0, 0.15);\n",
              "      filter: drop-shadow(0px 1px 2px rgba(0, 0, 0, 0.3));\n",
              "      fill: #FFFFFF;\n",
              "    }\n",
              "  </style>\n",
              "\n",
              "      <script>\n",
              "        const buttonEl =\n",
              "          document.querySelector('#df-5fc3dbe2-227f-4ce0-aaac-16db8bfade8a button.colab-df-convert');\n",
              "        buttonEl.style.display =\n",
              "          google.colab.kernel.accessAllowed ? 'block' : 'none';\n",
              "\n",
              "        async function convertToInteractive(key) {\n",
              "          const element = document.querySelector('#df-5fc3dbe2-227f-4ce0-aaac-16db8bfade8a');\n",
              "          const dataTable =\n",
              "            await google.colab.kernel.invokeFunction('convertToInteractive',\n",
              "                                                     [key], {});\n",
              "          if (!dataTable) return;\n",
              "\n",
              "          const docLinkHtml = 'Like what you see? Visit the ' +\n",
              "            '<a target=\"_blank\" href=https://colab.research.google.com/notebooks/data_table.ipynb>data table notebook</a>'\n",
              "            + ' to learn more about interactive tables.';\n",
              "          element.innerHTML = '';\n",
              "          dataTable['output_type'] = 'display_data';\n",
              "          await google.colab.output.renderOutput(dataTable, element);\n",
              "          const docLink = document.createElement('div');\n",
              "          docLink.innerHTML = docLinkHtml;\n",
              "          element.appendChild(docLink);\n",
              "        }\n",
              "      </script>\n",
              "    </div>\n",
              "  </div>\n",
              "  "
            ]
          },
          "metadata": {},
          "execution_count": 5
        }
      ]
    },
    {
      "cell_type": "code",
      "source": [
        "# 월별 범죄율 \n",
        "sns.barplot( x = train.groupby('month').size().index, y = train.groupby('month').size().values -62500)"
      ],
      "metadata": {
        "colab": {
          "base_uri": "https://localhost:8080/",
          "height": 297
        },
        "id": "vsxMeMyTIa7R",
        "outputId": "f7f83967-b452-4d51-b3b2-c15d0042420f"
      },
      "execution_count": 6,
      "outputs": [
        {
          "output_type": "execute_result",
          "data": {
            "text/plain": [
              "<matplotlib.axes._subplots.AxesSubplot at 0x7f8bbb786390>"
            ]
          },
          "metadata": {},
          "execution_count": 6
        },
        {
          "output_type": "display_data",
          "data": {
            "text/plain": [
              "<Figure size 432x288 with 1 Axes>"
            ],
            "image/png": "[encoded data removed]"
          },
          "metadata": {
            "needs_background": "light"
          }
        }
      ]
    },
    {
      "cell_type": "code",
      "source": [
        "# 연도별 범죄 횟수\n",
        "sns.barplot(x = train.groupby('year').size().index, y = train.groupby('year').size().values - 40000)"
      ],
      "metadata": {
        "colab": {
          "base_uri": "https://localhost:8080/",
          "height": 297
        },
        "id": "4up947OKE-x-",
        "outputId": "e412382c-bb66-44af-8a45-0ad7bff57e37"
      },
      "execution_count": 7,
      "outputs": [
        {
          "output_type": "execute_result",
          "data": {
            "text/plain": [
              "<matplotlib.axes._subplots.AxesSubplot at 0x7f8bb8cf2650>"
            ]
          },
          "metadata": {},
          "execution_count": 7
        },
        {
          "output_type": "display_data",
          "data": {
            "text/plain": [
              "<Figure size 432x288 with 1 Axes>"
            ],
            "image/png": "[encoded data removed]"
          },
          "metadata": {
            "needs_background": "light"
          }
        }
      ]
    },
    {
      "cell_type": "code",
      "source": [
        "# 일별 범죄 횟수 \n",
        "sns.barplot( x = train.groupby('day').size().index, y = train.groupby('day').size().values)"
      ],
      "metadata": {
        "colab": {
          "base_uri": "https://localhost:8080/",
          "height": 297
        },
        "id": "gRw0RIgCII8A",
        "outputId": "86af597c-c04e-43c9-9be8-2f9c78e14f71"
      },
      "execution_count": 8,
      "outputs": [
        {
          "output_type": "execute_result",
          "data": {
            "text/plain": [
              "<matplotlib.axes._subplots.AxesSubplot at 0x7f8bb9da8c10>"
            ]
          },
          "metadata": {},
          "execution_count": 8
        },
        {
          "output_type": "display_data",
          "data": {
            "text/plain": [
              "<Figure size 432x288 with 1 Axes>"
            ],
            "image/png": "[encoded data removed]"
          },
          "metadata": {
            "needs_background": "light"
          }
        }
      ]
    },
    {
      "cell_type": "code",
      "source": [
        "# 요일별 범죄 횟수 \n",
        "sns.barplot( x = train.groupby('dayofweek').size().index, y = train.groupby('dayofweek').size().values - 110000)"
      ],
      "metadata": {
        "colab": {
          "base_uri": "https://localhost:8080/",
          "height": 297
        },
        "id": "ow30fa5bI-8Z",
        "outputId": "bc3d395a-7db2-4b37-8c3c-d136bc4e80a4"
      },
      "execution_count": 9,
      "outputs": [
        {
          "output_type": "execute_result",
          "data": {
            "text/plain": [
              "<matplotlib.axes._subplots.AxesSubplot at 0x7f8bba962850>"
            ]
          },
          "metadata": {},
          "execution_count": 9
        },
        {
          "output_type": "display_data",
          "data": {
            "text/plain": [
              "<Figure size 432x288 with 1 Axes>"
            ],
            "image/png": "[encoded data removed]"
          },
          "metadata": {
            "needs_background": "light"
          }
        }
      ]
    },
    {
      "cell_type": "code",
      "source": [
        "# 카테고리별 범죄 횟수 \n",
        "plt.subplots(figsize = (20,12))\n",
        "sns.barplot( x = train.groupby('Category').size().index, y = train.groupby('Category').size().values)\n",
        "plt.xticks(rotation = 70)"
      ],
      "metadata": {
        "colab": {
          "base_uri": "https://localhost:8080/",
          "height": 595
        },
        "id": "5He2uHyHJYoa",
        "outputId": "0e69fad2-f351-4469-ba25-6b7046f9df0a"
      },
      "execution_count": 10,
      "outputs": [
        {
          "output_type": "execute_result",
          "data": {
            "text/plain": [
              "(array([ 0,  1,  2,  3,  4,  5,  6,  7,  8,  9, 10, 11, 12, 13, 14, 15, 16,\n",
              "        17, 18, 19, 20, 21, 22, 23, 24, 25, 26, 27, 28, 29, 30, 31, 32, 33,\n",
              "        34, 35, 36, 37, 38]), <a list of 39 Text major ticklabel objects>)"
            ]
          },
          "metadata": {},
          "execution_count": 10
        },
        {
          "output_type": "display_data",
          "data": {
            "text/plain": [
              "<Figure size 1440x864 with 1 Axes>"
            ],
            "image/png": "[encoded data removed]"
          },
          "metadata": {
            "needs_background": "light"
          }
        }
      ]
    },
    {
      "cell_type": "markdown",
      "source": [
        "## Modelling"
      ],
      "metadata": {
        "id": "zZFcW78yKdz5"
      }
    },
    {
      "cell_type": "code",
      "source": [
        "train.info()"
      ],
      "metadata": {
        "colab": {
          "base_uri": "https://localhost:8080/"
        },
        "id": "AWYwDNVZQ40_",
        "outputId": "4f5b2d27-6da3-4bf9-e558-db47b6f0c1f3"
      },
      "execution_count": 11,
      "outputs": [
        {
          "output_type": "stream",
          "name": "stdout",
          "text": [
            "<class 'pandas.core.frame.DataFrame'>\n",
            "RangeIndex: 878049 entries, 0 to 878048\n",
            "Data columns (total 15 columns):\n",
            " #   Column      Non-Null Count   Dtype         \n",
            "---  ------      --------------   -----         \n",
            " 0   Dates       878049 non-null  datetime64[ns]\n",
            " 1   Category    878049 non-null  object        \n",
            " 2   Descript    878049 non-null  object        \n",
            " 3   DayOfWeek   878049 non-null  object        \n",
            " 4   PdDistrict  878049 non-null  object        \n",
            " 5   Resolution  878049 non-null  object        \n",
            " 6   Address     878049 non-null  object        \n",
            " 7   X           878049 non-null  float64       \n",
            " 8   Y           878049 non-null  float64       \n",
            " 9   year        878049 non-null  int64         \n",
            " 10  month       878049 non-null  int64         \n",
            " 11  day         878049 non-null  int64         \n",
            " 12  dayofweek   878049 non-null  int64         \n",
            " 13  hour        878049 non-null  int64         \n",
            " 14  minute      878049 non-null  int64         \n",
            "dtypes: datetime64[ns](1), float64(2), int64(6), object(6)\n",
            "memory usage: 100.5+ MB\n"
          ]
        }
      ]
    },
    {
      "cell_type": "code",
      "source": [
        "train.head()"
      ],
      "metadata": {
        "colab": {
          "base_uri": "https://localhost:8080/",
          "height": 530
        },
        "id": "8QsIG6xaRXu5",
        "outputId": "82bcf62c-f6f2-4c37-dc8c-e635fcb1b4e2"
      },
      "execution_count": 35,
      "outputs": [
        {
          "output_type": "execute_result",
          "data": {
            "text/plain": [
              "                Dates        Category                      Descript  \\\n",
              "0 2015-05-13 23:53:00        WARRANTS                WARRANT ARREST   \n",
              "1 2015-05-13 23:53:00  OTHER OFFENSES      TRAFFIC VIOLATION ARREST   \n",
              "2 2015-05-13 23:33:00  OTHER OFFENSES      TRAFFIC VIOLATION ARREST   \n",
              "3 2015-05-13 23:30:00   LARCENY/THEFT  GRAND THEFT FROM LOCKED AUTO   \n",
              "4 2015-05-13 23:30:00   LARCENY/THEFT  GRAND THEFT FROM LOCKED AUTO   \n",
              "\n",
              "   DayOfWeek PdDistrict      Resolution                    Address  \\\n",
              "0  Wednesday   NORTHERN  ARREST, BOOKED         OAK ST / LAGUNA ST   \n",
              "1  Wednesday   NORTHERN  ARREST, BOOKED         OAK ST / LAGUNA ST   \n",
              "2  Wednesday   NORTHERN  ARREST, BOOKED  VANNESS AV / GREENWICH ST   \n",
              "3  Wednesday   NORTHERN            NONE   1500 Block of LOMBARD ST   \n",
              "4  Wednesday       PARK            NONE  100 Block of BRODERICK ST   \n",
              "\n",
              "            X          Y  year  month  day  dayofweek  hour  minute  \n",
              "0 -122.425892  37.774599  2015      5   13          2    23      53  \n",
              "1 -122.425892  37.774599  2015      5   13          2    23      53  \n",
              "2 -122.424363  37.800414  2015      5   13          2    23      33  \n",
              "3 -122.426995  37.800873  2015      5   13          2    23      30  \n",
              "4 -122.438738  37.771541  2015      5   13          2    23      30  "
            ],
            "text/html": [
              "\n",
              "  <div id=\"df-1ea0d9f0-1a5c-44c8-b8d2-cf9eb397f8e3\">\n",
              "    <div class=\"colab-df-container\">\n",
              "      <div>\n",
              "<style scoped>\n",
              "    .dataframe tbody tr th:only-of-type {\n",
              "        vertical-align: middle;\n",
              "    }\n",
              "\n",
              "    .dataframe tbody tr th {\n",
              "        vertical-align: top;\n",
              "    }\n",
              "\n",
              "    .dataframe thead th {\n",
              "        text-align: right;\n",
              "    }\n",
              "</style>\n",
              "<table border=\"1\" class=\"dataframe\">\n",
              "  <thead>\n",
              "    <tr style=\"text-align: right;\">\n",
              "      <th></th>\n",
              "      <th>Dates</th>\n",
              "      <th>Category</th>\n",
              "      <th>Descript</th>\n",
              "      <th>DayOfWeek</th>\n",
              "      <th>PdDistrict</th>\n",
              "      <th>Resolution</th>\n",
              "      <th>Address</th>\n",
              "      <th>X</th>\n",
              "      <th>Y</th>\n",
              "      <th>year</th>\n",
              "      <th>month</th>\n",
              "      <th>day</th>\n",
              "      <th>dayofweek</th>\n",
              "      <th>hour</th>\n",
              "      <th>minute</th>\n",
              "    </tr>\n",
              "  </thead>\n",
              "  <tbody>\n",
              "    <tr>\n",
              "      <th>0</th>\n",
              "      <td>2015-05-13 23:53:00</td>\n",
              "      <td>WARRANTS</td>\n",
              "      <td>WARRANT ARREST</td>\n",
              "      <td>Wednesday</td>\n",
              "      <td>NORTHERN</td>\n",
              "      <td>ARREST, BOOKED</td>\n",
              "      <td>OAK ST / LAGUNA ST</td>\n",
              "      <td>-122.425892</td>\n",
              "      <td>37.774599</td>\n",
              "      <td>2015</td>\n",
              "      <td>5</td>\n",
              "      <td>13</td>\n",
              "      <td>2</td>\n",
              "      <td>23</td>\n",
              "      <td>53</td>\n",
              "    </tr>\n",
              "    <tr>\n",
              "      <th>1</th>\n",
              "      <td>2015-05-13 23:53:00</td>\n",
              "      <td>OTHER OFFENSES</td>\n",
              "      <td>TRAFFIC VIOLATION ARREST</td>\n",
              "      <td>Wednesday</td>\n",
              "      <td>NORTHERN</td>\n",
              "      <td>ARREST, BOOKED</td>\n",
              "      <td>OAK ST / LAGUNA ST</td>\n",
              "      <td>-122.425892</td>\n",
              "      <td>37.774599</td>\n",
              "      <td>2015</td>\n",
              "      <td>5</td>\n",
              "      <td>13</td>\n",
              "      <td>2</td>\n",
              "      <td>23</td>\n",
              "      <td>53</td>\n",
              "    </tr>\n",
              "    <tr>\n",
              "      <th>2</th>\n",
              "      <td>2015-05-13 23:33:00</td>\n",
              "      <td>OTHER OFFENSES</td>\n",
              "      <td>TRAFFIC VIOLATION ARREST</td>\n",
              "      <td>Wednesday</td>\n",
              "      <td>NORTHERN</td>\n",
              "      <td>ARREST, BOOKED</td>\n",
              "      <td>VANNESS AV / GREENWICH ST</td>\n",
              "      <td>-122.424363</td>\n",
              "      <td>37.800414</td>\n",
              "      <td>2015</td>\n",
              "      <td>5</td>\n",
              "      <td>13</td>\n",
              "      <td>2</td>\n",
              "      <td>23</td>\n",
              "      <td>33</td>\n",
              "    </tr>\n",
              "    <tr>\n",
              "      <th>3</th>\n",
              "      <td>2015-05-13 23:30:00</td>\n",
              "      <td>LARCENY/THEFT</td>\n",
              "      <td>GRAND THEFT FROM LOCKED AUTO</td>\n",
              "      <td>Wednesday</td>\n",
              "      <td>NORTHERN</td>\n",
              "      <td>NONE</td>\n",
              "      <td>1500 Block of LOMBARD ST</td>\n",
              "      <td>-122.426995</td>\n",
              "      <td>37.800873</td>\n",
              "      <td>2015</td>\n",
              "      <td>5</td>\n",
              "      <td>13</td>\n",
              "      <td>2</td>\n",
              "      <td>23</td>\n",
              "      <td>30</td>\n",
              "    </tr>\n",
              "    <tr>\n",
              "      <th>4</th>\n",
              "      <td>2015-05-13 23:30:00</td>\n",
              "      <td>LARCENY/THEFT</td>\n",
              "      <td>GRAND THEFT FROM LOCKED AUTO</td>\n",
              "      <td>Wednesday</td>\n",
              "      <td>PARK</td>\n",
              "      <td>NONE</td>\n",
              "      <td>100 Block of BRODERICK ST</td>\n",
              "      <td>-122.438738</td>\n",
              "      <td>37.771541</td>\n",
              "      <td>2015</td>\n",
              "      <td>5</td>\n",
              "      <td>13</td>\n",
              "      <td>2</td>\n",
              "      <td>23</td>\n",
              "      <td>30</td>\n",
              "    </tr>\n",
              "  </tbody>\n",
              "</table>\n",
              "</div>\n",
              "      <button class=\"colab-df-convert\" onclick=\"convertToInteractive('df-1ea0d9f0-1a5c-44c8-b8d2-cf9eb397f8e3')\"\n",
              "              title=\"Convert this dataframe to an interactive table.\"\n",
              "              style=\"display:none;\">\n",
              "        \n",
              "  <svg xmlns=\"http://www.w3.org/2000/svg\" height=\"24px\"viewBox=\"0 0 24 24\"\n",
              "       width=\"24px\">\n",
              "    <path d=\"M0 0h24v24H0V0z\" fill=\"none\"/>\n",
              "    <path d=\"M18.56 5.44l.94 2.06.94-2.06 2.06-.94-2.06-.94-.94-2.06-.94 2.06-2.06.94zm-11 1L8.5 8.5l.94-2.06 2.06-.94-2.06-.94L8.5 2.5l-.94 2.06-2.06.94zm10 10l.94 2.06.94-2.06 2.06-.94-2.06-.94-.94-2.06-.94 2.06-2.06.94z\"/><path d=\"M17.41 7.96l-1.37-1.37c-.4-.4-.92-.59-1.43-.59-.52 0-1.04.2-1.43.59L10.3 9.45l-7.72 7.72c-.78.78-.78 2.05 0 2.83L4 21.41c.39.39.9.59 1.41.59.51 0 1.02-.2 1.41-.59l7.78-7.78 2.81-2.81c.8-.78.8-2.07 0-2.86zM5.41 20L4 18.59l7.72-7.72 1.47 1.35L5.41 20z\"/>\n",
              "  </svg>\n",
              "      </button>\n",
              "      \n",
              "  <style>\n",
              "    .colab-df-container {\n",
              "      display:flex;\n",
              "      flex-wrap:wrap;\n",
              "      gap: 12px;\n",
              "    }\n",
              "\n",
              "    .colab-df-convert {\n",
              "      background-color: #E8F0FE;\n",
              "      border: none;\n",
              "      border-radius: 50%;\n",
              "      cursor: pointer;\n",
              "      display: none;\n",
              "      fill: #1967D2;\n",
              "      height: 32px;\n",
              "      padding: 0 0 0 0;\n",
              "      width: 32px;\n",
              "    }\n",
              "\n",
              "    .colab-df-convert:hover {\n",
              "      background-color: #E2EBFA;\n",
              "      box-shadow: 0px 1px 2px rgba(60, 64, 67, 0.3), 0px 1px 3px 1px rgba(60, 64, 67, 0.15);\n",
              "      fill: #174EA6;\n",
              "    }\n",
              "\n",
              "    [theme=dark] .colab-df-convert {\n",
              "      background-color: #3B4455;\n",
              "      fill: #D2E3FC;\n",
              "    }\n",
              "\n",
              "    [theme=dark] .colab-df-convert:hover {\n",
              "      background-color: #434B5C;\n",
              "      box-shadow: 0px 1px 3px 1px rgba(0, 0, 0, 0.15);\n",
              "      filter: drop-shadow(0px 1px 2px rgba(0, 0, 0, 0.3));\n",
              "      fill: #FFFFFF;\n",
              "    }\n",
              "  </style>\n",
              "\n",
              "      <script>\n",
              "        const buttonEl =\n",
              "          document.querySelector('#df-1ea0d9f0-1a5c-44c8-b8d2-cf9eb397f8e3 button.colab-df-convert');\n",
              "        buttonEl.style.display =\n",
              "          google.colab.kernel.accessAllowed ? 'block' : 'none';\n",
              "\n",
              "        async function convertToInteractive(key) {\n",
              "          const element = document.querySelector('#df-1ea0d9f0-1a5c-44c8-b8d2-cf9eb397f8e3');\n",
              "          const dataTable =\n",
              "            await google.colab.kernel.invokeFunction('convertToInteractive',\n",
              "                                                     [key], {});\n",
              "          if (!dataTable) return;\n",
              "\n",
              "          const docLinkHtml = 'Like what you see? Visit the ' +\n",
              "            '<a target=\"_blank\" href=https://colab.research.google.com/notebooks/data_table.ipynb>data table notebook</a>'\n",
              "            + ' to learn more about interactive tables.';\n",
              "          element.innerHTML = '';\n",
              "          dataTable['output_type'] = 'display_data';\n",
              "          await google.colab.output.renderOutput(dataTable, element);\n",
              "          const docLink = document.createElement('div');\n",
              "          docLink.innerHTML = docLinkHtml;\n",
              "          element.appendChild(docLink);\n",
              "        }\n",
              "      </script>\n",
              "    </div>\n",
              "  </div>\n",
              "  "
            ]
          },
          "metadata": {},
          "execution_count": 35
        }
      ]
    },
    {
      "cell_type": "code",
      "source": [
        "# 해당 컬럼 drop\n",
        "train_data = train.drop([\"Descript\", \"Resolution\"], axis = 1)"
      ],
      "metadata": {
        "id": "ZCJvLA5GRySC"
      },
      "execution_count": 36,
      "outputs": []
    },
    {
      "cell_type": "code",
      "source": [
        "def transformDataset(dataset):\n",
        "    dataset['Dates'] = pd.to_datetime(dataset['Dates'])\n",
        "    \n",
        "    dataset['Date'] = dataset['Dates'].dt.date\n",
        "    \n",
        "    dataset['n_days'] = (dataset['Date'] - dataset['Date'].min()).apply(lambda x: x.days)\n",
        "    \n",
        "    dataset['Year'] = dataset['Dates'].dt.year\n",
        "    dataset['DayOfWeek'] = dataset['Dates'].dt.dayofweek # OVERWRITE\n",
        "    dataset['WeekOfYear'] = dataset['Dates'].dt.weekofyear\n",
        "    dataset['Month'] = dataset['Dates'].dt.month\n",
        "    \n",
        "    dataset['Hour'] = dataset['Dates'].dt.hour\n",
        "    \n",
        "    dataset['Block'] = dataset['Address'].str.contains('block', case=False)\n",
        "    dataset['Block'] = dataset['Block'].map(lambda x: 1 if  x == True else 0)\n",
        "\n",
        "    \n",
        "    dataset = dataset.drop('Dates', 1)\n",
        "    dataset = dataset.drop('Date', 1)\n",
        "    dataset = dataset.drop('Address', 1)\n",
        "    \n",
        "    dataset = pd.get_dummies(data=dataset, columns=[ 'PdDistrict'], drop_first = True)\n",
        "    return dataset\n",
        "    "
      ],
      "metadata": {
        "id": "UasLazDrR0jD"
      },
      "execution_count": 17,
      "outputs": []
    },
    {
      "cell_type": "code",
      "source": [
        "train = transformDataset(train)"
      ],
      "metadata": {
        "colab": {
          "base_uri": "https://localhost:8080/"
        },
        "id": "XmXBdiQDR4c5",
        "outputId": "0e970071-6eda-4582-a50d-76e2e376be5e"
      },
      "execution_count": 18,
      "outputs": [
        {
          "output_type": "stream",
          "name": "stderr",
          "text": [
            "/usr/local/lib/python3.7/dist-packages/ipykernel_launcher.py:10: FutureWarning: Series.dt.weekofyear and Series.dt.week have been deprecated.  Please use Series.dt.isocalendar().week instead.\n",
            "  # Remove the CWD from sys.path while we load stuff.\n",
            "/usr/local/lib/python3.7/dist-packages/ipykernel_launcher.py:19: FutureWarning: In a future version of pandas all arguments of DataFrame.drop except for the argument 'labels' will be keyword-only\n",
            "/usr/local/lib/python3.7/dist-packages/ipykernel_launcher.py:20: FutureWarning: In a future version of pandas all arguments of DataFrame.drop except for the argument 'labels' will be keyword-only\n",
            "/usr/local/lib/python3.7/dist-packages/ipykernel_launcher.py:21: FutureWarning: In a future version of pandas all arguments of DataFrame.drop except for the argument 'labels' will be keyword-only\n"
          ]
        }
      ]
    },
    {
      "cell_type": "code",
      "source": [
        "x = train_data.drop(\"Category\",axis=1).values\n",
        "y = train_data[\"Category\"].values"
      ],
      "metadata": {
        "id": "2wkMJqdrSK-H"
      },
      "execution_count": 37,
      "outputs": []
    },
    {
      "cell_type": "code",
      "source": [
        "from sklearn.model_selection import train_test_split\n",
        "\n",
        "x_train, X_test, y_train, y_test = train_test_split(x, y, test_size=0.10)"
      ],
      "metadata": {
        "id": "d3CCBvM3SNS-"
      },
      "execution_count": 27,
      "outputs": []
    },
    {
      "cell_type": "markdown",
      "source": [
        "## RandomForest"
      ],
      "metadata": {
        "id": "US51ZYLdT-0Q"
      }
    },
    {
      "cell_type": "code",
      "source": [
        "from sklearn.ensemble import RandomForestClassifier\n",
        "rfc = RandomForestClassifier(n_estimators=40,min_samples_split=100 )\n",
        "rfc.fit(x_train, y_train)"
      ],
      "metadata": {
        "colab": {
          "base_uri": "https://localhost:8080/"
        },
        "id": "o8fYtb3uLBXH",
        "outputId": "de7b0945-e24b-452a-e6ac-a7d580fed76a"
      },
      "execution_count": 30,
      "outputs": [
        {
          "output_type": "execute_result",
          "data": {
            "text/plain": [
              "RandomForestClassifier(min_samples_split=100, n_estimators=40)"
            ]
          },
          "metadata": {},
          "execution_count": 30
        }
      ]
    },
    {
      "cell_type": "code",
      "source": [
        "from sklearn.metrics import classification_report,confusion_matrix\n",
        "rfc_pred = rfc.predict(X_test)\n",
        "print (classification_report(y_test,rfc_pred))"
      ],
      "metadata": {
        "colab": {
          "base_uri": "https://localhost:8080/"
        },
        "id": "d9yhJOkSQFhj",
        "outputId": "946a5db1-8307-40ea-8603-3b5ee4bd3707"
      },
      "execution_count": 32,
      "outputs": [
        {
          "output_type": "stream",
          "name": "stderr",
          "text": [
            "/usr/local/lib/python3.7/dist-packages/sklearn/metrics/_classification.py:1318: UndefinedMetricWarning: Precision and F-score are ill-defined and being set to 0.0 in labels with no predicted samples. Use `zero_division` parameter to control this behavior.\n",
            "  _warn_prf(average, modifier, msg_start, len(result))\n",
            "/usr/local/lib/python3.7/dist-packages/sklearn/metrics/_classification.py:1318: UndefinedMetricWarning: Precision and F-score are ill-defined and being set to 0.0 in labels with no predicted samples. Use `zero_division` parameter to control this behavior.\n",
            "  _warn_prf(average, modifier, msg_start, len(result))\n",
            "/usr/local/lib/python3.7/dist-packages/sklearn/metrics/_classification.py:1318: UndefinedMetricWarning: Precision and F-score are ill-defined and being set to 0.0 in labels with no predicted samples. Use `zero_division` parameter to control this behavior.\n",
            "  _warn_prf(average, modifier, msg_start, len(result))\n"
          ]
        },
        {
          "output_type": "stream",
          "name": "stdout",
          "text": [
            "              precision    recall  f1-score   support\n",
            "\n",
            "           0       0.00      0.00      0.00       143\n",
            "           1       0.09      0.09      0.09      7675\n",
            "           2       0.00      0.00      0.00        51\n",
            "           3       0.00      0.00      0.00        28\n",
            "           4       0.05      0.01      0.01      3758\n",
            "           5       0.00      0.00      0.00       398\n",
            "           6       0.00      0.00      0.00       243\n",
            "           7       0.06      0.07      0.07      5532\n",
            "           8       0.00      0.00      0.00       452\n",
            "           9       0.00      0.00      0.00       119\n",
            "          10       0.00      0.00      0.00        34\n",
            "          11       0.00      0.00      0.00        63\n",
            "          12       0.00      0.00      0.00      1058\n",
            "          13       0.03      0.00      0.00      1664\n",
            "          14       0.00      0.00      0.00        21\n",
            "          15       0.00      0.00      0.00       215\n",
            "          16       0.20      0.49      0.29     17431\n",
            "          17       0.00      0.00      0.00       209\n",
            "          18       0.00      0.00      0.00       120\n",
            "          19       0.03      0.02      0.02      2504\n",
            "          20       0.11      0.06      0.08      9226\n",
            "          21       0.15      0.22      0.18     12689\n",
            "          22       0.00      0.00      0.00         2\n",
            "          23       0.01      0.01      0.01       703\n",
            "          24       0.00      0.00      0.00       286\n",
            "          25       0.00      0.00      0.00      2195\n",
            "          26       0.00      0.00      0.00       180\n",
            "          27       0.00      0.00      0.00      1022\n",
            "          28       0.00      0.00      0.00       448\n",
            "          29       0.00      0.00      0.00        20\n",
            "          30       0.00      0.00      0.00       464\n",
            "          31       0.00      0.00      0.00        43\n",
            "          32       0.00      0.00      0.00      3160\n",
            "          33       0.00      0.00      0.00         1\n",
            "          34       0.00      0.00      0.00       768\n",
            "          35       0.05      0.00      0.00      4556\n",
            "          36       0.06      0.05      0.05      5347\n",
            "          37       0.03      0.00      0.00      4137\n",
            "          38       0.00      0.00      0.00       840\n",
            "\n",
            "    accuracy                           0.15     87805\n",
            "   macro avg       0.02      0.03      0.02     87805\n",
            "weighted avg       0.10      0.15      0.11     87805\n",
            "\n"
          ]
        }
      ]
    },
    {
      "cell_type": "code",
      "source": [
        "n_features = X.shape[1]\n",
        "plt.barh(range(n_features),rfc.feature_importances_)\n",
        "plt.yticks(np.arange(n_features),train_data.columns[1:])"
      ],
      "metadata": {
        "colab": {
          "base_uri": "https://localhost:8080/",
          "height": 1000
        },
        "id": "ObsjuLiNTMbK",
        "outputId": "d51c224c-cb0c-45dd-df8f-5da70661981b"
      },
      "execution_count": 33,
      "outputs": [
        {
          "output_type": "execute_result",
          "data": {
            "text/plain": [
              "([<matplotlib.axis.YTick at 0x7f8bb0b715d0>,\n",
              "  <matplotlib.axis.YTick at 0x7f8bb2426790>,\n",
              "  <matplotlib.axis.YTick at 0x7f8bb8e16850>,\n",
              "  <matplotlib.axis.YTick at 0x7f8bb8d87510>,\n",
              "  <matplotlib.axis.YTick at 0x7f8bb8d879d0>,\n",
              "  <matplotlib.axis.YTick at 0x7f8bb8d87f10>,\n",
              "  <matplotlib.axis.YTick at 0x7f8bb8d8f4d0>,\n",
              "  <matplotlib.axis.YTick at 0x7f8bb8d8fa10>,\n",
              "  <matplotlib.axis.YTick at 0x7f8bb8d8f8d0>,\n",
              "  <matplotlib.axis.YTick at 0x7f8bb8d984d0>,\n",
              "  <matplotlib.axis.YTick at 0x7f8bb8d989d0>,\n",
              "  <matplotlib.axis.YTick at 0x7f8bb8d98f10>,\n",
              "  <matplotlib.axis.YTick at 0x7f8bb8d8fed0>,\n",
              "  <matplotlib.axis.YTick at 0x7f8bb8d874d0>,\n",
              "  <matplotlib.axis.YTick at 0x7f8bb91d9e10>,\n",
              "  <matplotlib.axis.YTick at 0x7f8bb8d1f550>,\n",
              "  <matplotlib.axis.YTick at 0x7f8bb8d1fa90>,\n",
              "  <matplotlib.axis.YTick at 0x7f8bb8d1fb90>,\n",
              "  <matplotlib.axis.YTick at 0x7f8bb8d29550>,\n",
              "  <matplotlib.axis.YTick at 0x7f8bb8d29a90>,\n",
              "  <matplotlib.axis.YTick at 0x7f8bb8d29b90>,\n",
              "  <matplotlib.axis.YTick at 0x7f8bb8d29290>,\n",
              "  <matplotlib.axis.YTick at 0x7f8bb8d1f290>,\n",
              "  <matplotlib.axis.YTick at 0x7f8bb8d8f1d0>],\n",
              " [Text(0, 0, 'DayOfWeek'),\n",
              "  Text(0, 0, 'X'),\n",
              "  Text(0, 0, 'Y'),\n",
              "  Text(0, 0, 'year'),\n",
              "  Text(0, 0, 'month'),\n",
              "  Text(0, 0, 'day'),\n",
              "  Text(0, 0, 'dayofweek'),\n",
              "  Text(0, 0, 'hour'),\n",
              "  Text(0, 0, 'minute'),\n",
              "  Text(0, 0, 'n_days'),\n",
              "  Text(0, 0, 'Year'),\n",
              "  Text(0, 0, 'WeekOfYear'),\n",
              "  Text(0, 0, 'Month'),\n",
              "  Text(0, 0, 'Hour'),\n",
              "  Text(0, 0, 'Block'),\n",
              "  Text(0, 0, 'PdDistrict_CENTRAL'),\n",
              "  Text(0, 0, 'PdDistrict_INGLESIDE'),\n",
              "  Text(0, 0, 'PdDistrict_MISSION'),\n",
              "  Text(0, 0, 'PdDistrict_NORTHERN'),\n",
              "  Text(0, 0, 'PdDistrict_PARK'),\n",
              "  Text(0, 0, 'PdDistrict_RICHMOND'),\n",
              "  Text(0, 0, 'PdDistrict_SOUTHERN'),\n",
              "  Text(0, 0, 'PdDistrict_TARAVAL'),\n",
              "  Text(0, 0, 'PdDistrict_TENDERLOIN')])"
            ]
          },
          "metadata": {},
          "execution_count": 33
        },
        {
          "output_type": "display_data",
          "data": {
            "text/plain": [
              "<Figure size 432x288 with 1 Axes>"
            ],
            "image/png": "[encoded data removed]"
          },
          "metadata": {
            "needs_background": "light"
          }
        }
      ]
    }
  ]
}