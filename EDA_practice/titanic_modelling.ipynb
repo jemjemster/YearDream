{
  "nbformat": 4,
  "nbformat_minor": 0,
  "metadata": {
    "colab": {
      "name": "titanic_modelling.ipynb",
      "provenance": [],
      "collapsed_sections": []
    },
    "kernelspec": {
      "name": "python3",
      "display_name": "Python 3"
    },
    "language_info": {
      "name": "python"
    }
  },
  "cells": [
    {
      "cell_type": "code",
      "execution_count": 1,
      "metadata": {
        "colab": {
          "base_uri": "https://localhost:8080/"
        },
        "id": "0c3fC1ReTWCF",
        "outputId": "d7e871ad-5684-4dcd-f27c-266035e0e9b2"
      },
      "outputs": [
        {
          "output_type": "stream",
          "name": "stdout",
          "text": [
            "Drive already mounted at /content/drive; to attempt to forcibly remount, call drive.mount(\"/content/drive\", force_remount=True).\n"
          ]
        }
      ],
      "source": [
        "from google.colab import drive\n",
        "drive.mount('/content/drive')"
      ]
    },
    {
      "cell_type": "code",
      "source": [
        "# 필요모듈 import\n",
        "import numpy as np\n",
        "import pandas as pd\n",
        "from matplotlib import pyplot as plt\n",
        "import seaborn as sns "
      ],
      "metadata": {
        "id": "VCBvS1c3TjVi"
      },
      "execution_count": 2,
      "outputs": []
    },
    {
      "cell_type": "code",
      "source": [
        "# pandas read_csv 메소드 호출 후 train.csv 파일 읽어옴. dataframe 형태로 반환\n",
        "train = pd.read_csv('/content/drive/MyDrive/train.csv')"
      ],
      "metadata": {
        "id": "lsgSHgj3T7Qk"
      },
      "execution_count": 3,
      "outputs": []
    },
    {
      "cell_type": "markdown",
      "source": [
        "## visualization"
      ],
      "metadata": {
        "id": "Elq-492ogFmm"
      }
    },
    {
      "cell_type": "code",
      "source": [
        "sns.barplot(x ='Pclass', y ='Survived', hue ='Sex', data = train)"
      ],
      "metadata": {
        "colab": {
          "base_uri": "https://localhost:8080/",
          "height": 297
        },
        "id": "MOXoPN4uUDFQ",
        "outputId": "e536614e-9a6b-482d-956b-55a5363a995c"
      },
      "execution_count": 4,
      "outputs": [
        {
          "output_type": "execute_result",
          "data": {
            "text/plain": [
              "<matplotlib.axes._subplots.AxesSubplot at 0x7fb474b2e250>"
            ]
          },
          "metadata": {},
          "execution_count": 4
        },
        {
          "output_type": "display_data",
          "data": {
            "text/plain": [
              "<Figure size 432x288 with 1 Axes>"
            ],
            "image/png": "[encoded data removed]"
          },
          "metadata": {
            "needs_background": "light"
          }
        }
      ]
    },
    {
      "cell_type": "code",
      "source": [
        "# sex의 survived 데이터 분포 확인\n",
        "sns.barplot( x = train['Sex'], y = train['Survived'], hue = train['Sex'],dodge = False) "
      ],
      "metadata": {
        "colab": {
          "base_uri": "https://localhost:8080/",
          "height": 297
        },
        "id": "JQIi57YPUZDK",
        "outputId": "83a9aa0c-f7f4-4996-fbff-36bcb42b136b"
      },
      "execution_count": 5,
      "outputs": [
        {
          "output_type": "execute_result",
          "data": {
            "text/plain": [
              "<matplotlib.axes._subplots.AxesSubplot at 0x7fb474a99590>"
            ]
          },
          "metadata": {},
          "execution_count": 5
        },
        {
          "output_type": "display_data",
          "data": {
            "text/plain": [
              "<Figure size 432x288 with 1 Axes>"
            ],
            "image/png": "[encoded data removed]"
          },
          "metadata": {
            "needs_background": "light"
          }
        }
      ]
    },
    {
      "cell_type": "code",
      "source": [
        "# pclass별 sex의 survived 데이터 분포 \n",
        "sns.barplot(x = 'Pclass', y = 'Survived', hue ='Sex', data = train)"
      ],
      "metadata": {
        "colab": {
          "base_uri": "https://localhost:8080/",
          "height": 297
        },
        "id": "o8KwQQHXVoc_",
        "outputId": "16716850-41fb-4cb1-9d64-c547d31b9bf4"
      },
      "execution_count": 6,
      "outputs": [
        {
          "output_type": "execute_result",
          "data": {
            "text/plain": [
              "<matplotlib.axes._subplots.AxesSubplot at 0x7fb4745661d0>"
            ]
          },
          "metadata": {},
          "execution_count": 6
        },
        {
          "output_type": "display_data",
          "data": {
            "text/plain": [
              "<Figure size 432x288 with 1 Axes>"
            ],
            "image/png": "[encoded data removed]"
          },
          "metadata": {
            "needs_background": "light"
          }
        }
      ]
    },
    {
      "cell_type": "code",
      "source": [
        "# 전체 변수 corrlelation\n",
        "plt.subplots(figsize = (8,6))\n",
        "sns.heatmap(train.corr(), annot = True, linewidth = 2)"
      ],
      "metadata": {
        "colab": {
          "base_uri": "https://localhost:8080/",
          "height": 447
        },
        "id": "kvyxliRfWwp6",
        "outputId": "203ab750-b69f-48a3-f7de-dee4c0bfd3ac"
      },
      "execution_count": 7,
      "outputs": [
        {
          "output_type": "execute_result",
          "data": {
            "text/plain": [
              "<matplotlib.axes._subplots.AxesSubplot at 0x7fb4744fd3d0>"
            ]
          },
          "metadata": {},
          "execution_count": 7
        },
        {
          "output_type": "display_data",
          "data": {
            "text/plain": [
              "<Figure size 576x432 with 2 Axes>"
            ],
            "image/png": "[encoded data removed]"
          },
          "metadata": {
            "needs_background": "light"
          }
        }
      ]
    },
    {
      "cell_type": "code",
      "source": [
        "# sibsp별 + pclass별 survived\n",
        "sns.barplot(x = 'SibSp', y = 'Survived', hue = 'Pclass', data = train, dodge = False)"
      ],
      "metadata": {
        "colab": {
          "base_uri": "https://localhost:8080/",
          "height": 297
        },
        "id": "DjvZ57yOXRTm",
        "outputId": "b3f50cc4-00e6-498f-f224-c0e127fe58cb"
      },
      "execution_count": 8,
      "outputs": [
        {
          "output_type": "execute_result",
          "data": {
            "text/plain": [
              "<matplotlib.axes._subplots.AxesSubplot at 0x7fb471b61790>"
            ]
          },
          "metadata": {},
          "execution_count": 8
        },
        {
          "output_type": "display_data",
          "data": {
            "text/plain": [
              "<Figure size 432x288 with 1 Axes>"
            ],
            "image/png": "[encoded data removed]"
          },
          "metadata": {
            "needs_background": "light"
          }
        }
      ]
    },
    {
      "cell_type": "markdown",
      "source": [
        "## modelling"
      ],
      "metadata": {
        "id": "12UTAeR0gNaz"
      }
    },
    {
      "cell_type": "code",
      "source": [
        "from sklearn.preprocessing import LabelEncoder"
      ],
      "metadata": {
        "id": "JrJ4xJxvav63"
      },
      "execution_count": 9,
      "outputs": []
    },
    {
      "cell_type": "code",
      "source": [
        "# 해당 컬럼 drop\n",
        "train = train.drop(['Name','Ticket','SibSp','Parch','Cabin'], axis = 1)"
      ],
      "metadata": {
        "id": "ZFwhROKSav3w"
      },
      "execution_count": 10,
      "outputs": []
    },
    {
      "cell_type": "code",
      "source": [
        "# 모델링 사용할 변수 숫자로 변환 \n",
        "train['Sex'].dtypes\n",
        "train['Sex'] = train['Sex'].astype(str)\n",
        "\n",
        "label = LabelEncoder()\n",
        "for col in ['Sex', 'Embarked']:\n",
        "    train[col] = label.fit_transform(train[col])"
      ],
      "metadata": {
        "id": "KaZ4PFxdav1c"
      },
      "execution_count": 11,
      "outputs": []
    },
    {
      "cell_type": "code",
      "source": [
        "# X_train, Y_train 학습시킬 변수와 Label 변수 분리\n",
        "X_train = train[['PassengerId','Pclass','Sex','Age','Fare','Fare','Embarked']]\n",
        "Y_train = train[['Survived']]"
      ],
      "metadata": {
        "id": "GaQhPibHavxA"
      },
      "execution_count": 12,
      "outputs": []
    },
    {
      "cell_type": "code",
      "source": [
        "# corr()['컬럼명'] 호출 → 다른 컬럼들 간의 상관관계 리턴\n",
        "train.corr()['Survived']"
      ],
      "metadata": {
        "colab": {
          "base_uri": "https://localhost:8080/"
        },
        "id": "9UhoL9E3avqv",
        "outputId": "b5d3d20e-4b29-45c9-d794-e9b0fb4990b0"
      },
      "execution_count": 13,
      "outputs": [
        {
          "output_type": "execute_result",
          "data": {
            "text/plain": [
              "PassengerId   -0.005007\n",
              "Survived       1.000000\n",
              "Pclass        -0.338481\n",
              "Sex           -0.543351\n",
              "Age           -0.077221\n",
              "Fare           0.257307\n",
              "Embarked      -0.163517\n",
              "Name: Survived, dtype: float64"
            ]
          },
          "metadata": {},
          "execution_count": 13
        }
      ]
    },
    {
      "cell_type": "markdown",
      "source": [
        "## Logistic Regression"
      ],
      "metadata": {
        "id": "1ObZopMhgD0S"
      }
    },
    {
      "cell_type": "code",
      "source": [
        "# LogisticRegression 객체 생성\n",
        "from sklearn.linear_model import LogisticRegression\n",
        "lr = LogisticRegression()"
      ],
      "metadata": {
        "id": "Ow29u3K9avhH"
      },
      "execution_count": 14,
      "outputs": []
    },
    {
      "cell_type": "code",
      "source": [
        "# test dataset load\n",
        "test = pd.read_csv('../content/drive/MyDrive/test (1).csv')"
      ],
      "metadata": {
        "id": "12OWQYUygbNF"
      },
      "execution_count": 15,
      "outputs": []
    },
    {
      "cell_type": "code",
      "source": [
        "# null값 유무 확인 \n",
        "test.isnull().sum()"
      ],
      "metadata": {
        "id": "7HbOYxj1gbCc",
        "colab": {
          "base_uri": "https://localhost:8080/"
        },
        "outputId": "3621236d-e7a3-4cdb-b5fb-51024f06c768"
      },
      "execution_count": 16,
      "outputs": [
        {
          "output_type": "execute_result",
          "data": {
            "text/plain": [
              "PassengerId      0\n",
              "Pclass           0\n",
              "Name             0\n",
              "Sex              0\n",
              "Age             86\n",
              "SibSp            0\n",
              "Parch            0\n",
              "Ticket           0\n",
              "Fare             1\n",
              "Cabin          327\n",
              "Embarked         0\n",
              "dtype: int64"
            ]
          },
          "metadata": {},
          "execution_count": 16
        }
      ]
    },
    {
      "cell_type": "code",
      "source": [
        "# Age 컬럼 null값 -> Age 중앙값으로 대체\n",
        "test['Age'] = test['Age'].fillna(test['Age'].median())\n",
        "test['Fare'] = test['Fare'].fillna(test['Fare'].mean())\n",
        "test['Age']"
      ],
      "metadata": {
        "id": "GEPGWGyyga17",
        "colab": {
          "base_uri": "https://localhost:8080/"
        },
        "outputId": "27ab2eed-1342-4f45-e018-a211818856b1"
      },
      "execution_count": 17,
      "outputs": [
        {
          "output_type": "execute_result",
          "data": {
            "text/plain": [
              "0      34.5\n",
              "1      47.0\n",
              "2      62.0\n",
              "3      27.0\n",
              "4      22.0\n",
              "       ... \n",
              "413    27.0\n",
              "414    39.0\n",
              "415    38.5\n",
              "416    27.0\n",
              "417    27.0\n",
              "Name: Age, Length: 418, dtype: float64"
            ]
          },
          "metadata": {},
          "execution_count": 17
        }
      ]
    },
    {
      "cell_type": "code",
      "source": [
        "# train dataset과 동일한 컬럼\n",
        "test = test.drop(['Age', 'PassengerId', 'Name', 'Ticket', 'SibSp', 'Parch', 'Cabin', 'Embarked'], axis=1)"
      ],
      "metadata": {
        "id": "5_AHqtMJgayB"
      },
      "execution_count": 18,
      "outputs": []
    },
    {
      "cell_type": "code",
      "source": [
        "# datatype -> integer로 변환 \n",
        "test['Sex'] = label.fit_transform(test['Sex'])"
      ],
      "metadata": {
        "id": "vboz3mNYgaiJ"
      },
      "execution_count": 19,
      "outputs": []
    },
    {
      "cell_type": "code",
      "source": [
        "# test data null값 확인\n",
        "test.isnull().sum()"
      ],
      "metadata": {
        "colab": {
          "base_uri": "https://localhost:8080/"
        },
        "id": "_27trxJcfi4k",
        "outputId": "b21f9a59-1488-46f4-9804-8c32e438d41c"
      },
      "execution_count": 20,
      "outputs": [
        {
          "output_type": "execute_result",
          "data": {
            "text/plain": [
              "Pclass    0\n",
              "Sex       0\n",
              "Fare      0\n",
              "dtype: int64"
            ]
          },
          "metadata": {},
          "execution_count": 20
        }
      ]
    },
    {
      "cell_type": "code",
      "source": [
        "# test data 예측\n",
        "# pred = lr.predict(test)"
      ],
      "metadata": {
        "id": "KneOV_jigcGq"
      },
      "execution_count": 30,
      "outputs": []
    },
    {
      "cell_type": "markdown",
      "source": [
        "## Submission "
      ],
      "metadata": {
        "id": "tG5Xxk1Uf8uF"
      }
    },
    {
      "cell_type": "code",
      "source": [
        "# Submission 파일 로드 \n",
        "gender_submission = pd.read_csv('../content/drive/MyDrive/gender_submission (1).csv')"
      ],
      "metadata": {
        "id": "1rme8tKqakck"
      },
      "execution_count": 22,
      "outputs": []
    },
    {
      "cell_type": "code",
      "source": [
        "# 예측값 들어있는 pred변수 survived에 할당  \n",
        "# gender_submission['Survived'] = pred"
      ],
      "metadata": {
        "id": "VOlQCKPkfomD"
      },
      "execution_count": 29,
      "outputs": []
    },
    {
      "cell_type": "code",
      "source": [
        "# 예측값 적용한 파일 write\n",
        "# gender_submission.to_csv('./titanic_submission2.csv', index=False)"
      ],
      "metadata": {
        "id": "eAl0hTKIga--"
      },
      "execution_count": 28,
      "outputs": []
    }
  ]
}