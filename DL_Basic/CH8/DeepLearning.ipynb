{
 "cells": [
  {
   "cell_type": "markdown",
   "metadata": {},
   "source": [
    "### 딥러닝\n",
    "\n",
    ": 층을 깊게 한  심층 신경망"
   ]
  },
  {
   "cell_type": "markdown",
   "metadata": {},
   "source": [
    "### 합성곱 계층\n",
    "\n",
    ": 모두 3 x 3 크기의 작은 필터, 층이 깊어지면서 채널 수가 더 늘어가는 것이 특징 \n",
    "##\n",
    "→ 합성곱 계층의 채널 수는 앞 계층부터 순서대로 16, 16, 32, 32, 64, 64로 늘어감\n",
    "##\n",
    "→ 풀링 계층을 추가하여 중간 데이터의 공간 크기를 점차 줄여가며 마지막 단의 완전연결 계층에서는 드롭아웃 계층 사용\n",
    "##\n",
    "→ 가중치 초깃값으로 He 초깃값 사용, 가중치 매개변수 갱신에는 Adam 이용"
   ]
  },
  {
   "cell_type": "markdown",
   "metadata": {},
   "source": [
    "### 신경망의 특징\n",
    "\n",
    "• 3 x 3 작은 필터 사용한 합성곱 계층\n",
    "##\n",
    "• 활성화 함수는 ReLU\n",
    "##\n",
    "• 완전연결 계층 뒤에 드롭아웃 계층 사용\n",
    "##\n",
    "• Adam을 사용해 최적화\n",
    "##\n",
    "• 가중치 초깃값은 'He의 초깃값'"
   ]
  },
  {
   "cell_type": "markdown",
   "metadata": {},
   "source": [
    "### 데이터 확장 \n",
    "\n",
    ": 입력 이미지(훈련 이미지)를 알고리즘을 동원해 '인위적'으로 확장 \n",
    "\n",
    "→ 이미지 회전하거나 세로로 이동하는 등 미세한 변화를 주어 이미지 개수 늘리기 (데이터 별로 없을 때 효과적인 수단)"
   ]
  },
  {
   "cell_type": "markdown",
   "metadata": {},
   "source": [
    "### 층을 깊게 할 때의 이점\n",
    "\n",
    "- 신경망의 매개변수 수가 줄어든다. → 층을 깊게 하면 적은 매개변수로 같은(혹은 그 이상의) 수준의 표현력을 달성할 수 있다.\n",
    "\n",
    "- 학습의 효율성도 층을 깊게 하는 것 → 정보를 계층적으로 전달할 수  있다. \n",
    "\n"
   ]
  },
  {
   "cell_type": "markdown",
   "metadata": {},
   "source": [
    "### VGG\n",
    ": 합성곱 계층과 풀링 계층으로 구성되는 '기본적'인 CNN\n",
    "\n",
    "#\n",
    "• 비중있는 층을 모두 16층 (혹은 19층)으로 심화\n",
    "#\n",
    "• 3 x 3 작은 필터를 사용한 합성곱 계층을 연속으로 거친다.  → 2 ~ 4회 연속으로 풀링 계층을 두어 크기를 절반으로 줄이는 처리 반복"
   ]
  },
  {
   "cell_type": "markdown",
   "metadata": {},
   "source": [
    "### ResNet\n",
    "\n",
    ": 층의 깊이에 비례해 성능을 향상시킬 수 있게 한 핵심 (물론 층을 깊게 하는 데는 여전히 한계가 있다)\n",
    "\n",
    "#\n",
    "• 스킵 연결 - 입력 데이터를 합성곱 계층을 건너뛰어 출력에 바로 더하는 구조"
   ]
  },
  {
   "cell_type": "markdown",
   "metadata": {},
   "source": [
    "### DCGAN\n",
    "\n",
    "→ 생성자와 식별자로 불리는 2개의 신경망 이용\n",
    "\n",
    "(생성자가 진짜와 똑같은 이미지 생성하고 식별자는 그것이 진짜인지 판정)"
   ]
  },
  {
   "cell_type": "markdown",
   "metadata": {},
   "source": [
    "### 8장 정리 \n",
    "\n",
    "• 유명한 신경망 VGG, GoodLeNeT, ResNet이 있다.\n",
    "\n",
    "• GPU와 분산 학습, 비트 정밀도 감소 등으로 딥러닝을 고속화할 수 있다.\n",
    "\n",
    "• 딥러닝(신경망)은 사물 인식뿐 아니라 사물 검출과 분할에도 이용할 수 있다.\n",
    "\n",
    "• 딥러닝의 응용 분야로는 사진의 캡션 생성, 이미지 생성, 강화학습 등이 있다. "
   ]
  }
 ],
 "metadata": {
  "interpreter": {
   "hash": "4685cf8fad66a3b5e1d83fe36d59de227ad64c6532a47c7a0b6e8e6da20ed48b"
  },
  "kernelspec": {
   "display_name": "Python 3.8.13 ('krc')",
   "language": "python",
   "name": "python3"
  },
  "language_info": {
   "codemirror_mode": {
    "name": "ipython",
    "version": 3
   },
   "file_extension": ".py",
   "mimetype": "text/x-python",
   "name": "python",
   "nbconvert_exporter": "python",
   "pygments_lexer": "ipython3",
   "version": "3.8.13"
  },
  "orig_nbformat": 4
 },
 "nbformat": 4,
 "nbformat_minor": 2
}
