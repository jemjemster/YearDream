{
 "cells": [
  {
   "cell_type": "markdown",
   "metadata": {},
   "source": [
    "### 신경망(Neural Network)\n",
    "\n",
    "중요한 성질 : 가중치 매개변수의 적절한 값 자동으로 학습하는 능력  "
   ]
  },
  {
   "cell_type": "markdown",
   "metadata": {},
   "source": [
    "• 시그모이드 함수 이용하여 신호 변환 → 변환된 신호를 다음 뉴런에 전달"
   ]
  },
  {
   "cell_type": "code",
   "execution_count": 21,
   "metadata": {},
   "outputs": [],
   "source": [
    "# 계단 함수 구현하기\n",
    "# 입력 0 넘으면 1 출력, 그 외에는 0 출력\n",
    "\n",
    "def step_function(x):  \n",
    "    if x > 0:\n",
    "        return 1\n",
    "    else:\n",
    "        return 0"
   ]
  },
  {
   "cell_type": "code",
   "execution_count": 22,
   "metadata": {},
   "outputs": [],
   "source": [
    "# numpy 배열로 구현 \n",
    "\n",
    "def step_function(x):\n",
    "    y = x > 0\n",
    "    return y.astype(np.int)"
   ]
  },
  {
   "cell_type": "code",
   "execution_count": 23,
   "metadata": {},
   "outputs": [
    {
     "name": "stderr",
     "output_type": "stream",
     "text": [
      "/var/folders/08/_lwb_7pj65z8h_sg1lhlt2lh0000gn/T/ipykernel_1034/2016133562.py:10: DeprecationWarning: `np.int` is a deprecated alias for the builtin `int`. To silence this warning, use `int` by itself. Doing this will not modify any behavior and is safe. When replacing `np.int`, you may wish to use e.g. `np.int64` or `np.int32` to specify the precision. If you wish to review your current use, check the release note link for additional information.\n",
      "Deprecated in NumPy 1.20; for more details and guidance: https://numpy.org/devdocs/release/1.20.0-notes.html#deprecations\n",
      "  y = y.astype(np.int)  # astype() : 넘파이 배열 자료형 변환 매서드\n"
     ]
    },
    {
     "data": {
      "text/plain": [
       "array([0, 1, 1])"
      ]
     },
     "execution_count": 23,
     "metadata": {},
     "output_type": "execute_result"
    }
   ],
   "source": [
    "import numpy as np\n",
    "\n",
    "x = np.array([-1.0, 1.0, 2.0])\n",
    "x\n",
    "\n",
    "y = x > 0\n",
    "y\n",
    "\n",
    "# y는 bool 배열 / 우리가 원하는 계단 함수는 'int형' 출력하는 함수라 바꿔줌\n",
    "y = y.astype(np.int)  # astype() : 넘파이 배열 자료형 변환 매서드\n",
    "y"
   ]
  },
  {
   "cell_type": "markdown",
   "metadata": {},
   "source": [
    "### 활성화 함수"
   ]
  },
  {
   "cell_type": "code",
   "execution_count": 24,
   "metadata": {},
   "outputs": [
    {
     "name": "stderr",
     "output_type": "stream",
     "text": [
      "/var/folders/08/_lwb_7pj65z8h_sg1lhlt2lh0000gn/T/ipykernel_1034/2714380903.py:6: DeprecationWarning: `np.int` is a deprecated alias for the builtin `int`. To silence this warning, use `int` by itself. Doing this will not modify any behavior and is safe. When replacing `np.int`, you may wish to use e.g. `np.int64` or `np.int32` to specify the precision. If you wish to review your current use, check the release note link for additional information.\n",
      "Deprecated in NumPy 1.20; for more details and guidance: https://numpy.org/devdocs/release/1.20.0-notes.html#deprecations\n",
      "  return np.array(x > 0, dtype = np.int)\n"
     ]
    },
    {
     "data": {
      "image/png": "[encoded data removed]",
      "text/plain": [
       "<Figure size 432x288 with 1 Axes>"
      ]
     },
     "metadata": {
      "needs_background": "light"
     },
     "output_type": "display_data"
    }
   ],
   "source": [
    "# 계단 함수 그리기\n",
    "import numpy as np\n",
    "import matplotlib.pylab as plt\n",
    "\n",
    "def step_function(x):\n",
    "    return np.array(x > 0, dtype = np.int)\n",
    "\n",
    "x = np.arange( -5.0, 5.0, 0.1)  # -0.5에서 5.0전까지 0.1 간격의 넘파이 배열 생성\n",
    "y = step_function(x) # 인수로 받은 넘파이 배열 원소 각각 인수로 계단 함수 실행\n",
    "\n",
    "plt.plot(x, y)\n",
    "plt.ylim(-0.1, 1.1)  # y축 범위 지정\n",
    "plt.show()   "
   ]
  },
  {
   "cell_type": "code",
   "execution_count": 25,
   "metadata": {},
   "outputs": [
    {
     "data": {
      "text/plain": [
       "array([0.26894142, 0.73105858, 0.88079708])"
      ]
     },
     "execution_count": 25,
     "metadata": {},
     "output_type": "execute_result"
    }
   ],
   "source": [
    "def sigmoid(x):\n",
    "    return 1 / (1 + np.exp(-x))\n",
    "\n",
    "x = np.array([-1.0, 1.0, 2.0])  # 인수 x가 넘파이 배열이어도 올바른 결과 나옴\n",
    "sigmoid(x)"
   ]
  },
  {
   "cell_type": "code",
   "execution_count": 26,
   "metadata": {},
   "outputs": [
    {
     "data": {
      "text/plain": [
       "array([1.        , 0.5       , 0.33333333])"
      ]
     },
     "execution_count": 26,
     "metadata": {},
     "output_type": "execute_result"
    }
   ],
   "source": [
    "# 브로드캐스트 : 넘파이 배열, 스칼라값 연산 → 넘파이 배열 각각의 원소와 스칼라값의 연산으로 바꿔 수행\n",
    "\n",
    "t = np.array([1.0, 2.0, 3.0])\n",
    "1.0 + t\n",
    "\n",
    "1.0 / t\n",
    "\n",
    "# → 스칼라 값과 넘파이 배열의 각 원소 사이에서 연산이 이뤄진 후, 넘파이 배열로 결과 출력됨"
   ]
  },
  {
   "cell_type": "code",
   "execution_count": 27,
   "metadata": {},
   "outputs": [
    {
     "data": {
      "image/png": "[encoded data removed]",
      "text/plain": [
       "<Figure size 432x288 with 1 Axes>"
      ]
     },
     "metadata": {
      "needs_background": "light"
     },
     "output_type": "display_data"
    }
   ],
   "source": [
    "# 시그모이드 함수 구현하기\n",
    "x = np.arange(-5.0, 5.0, 0.1) \n",
    "y = sigmoid(x)\n",
    "\n",
    "plt.plot(x, y)\n",
    "plt.ylim(-0.1, 1,1)  # y축 범위 지정\n",
    "plt.show()"
   ]
  },
  {
   "cell_type": "markdown",
   "metadata": {},
   "source": [
    "### 시그모이드 함수 VS 계단 함수\n",
    "##### 1. 시그모이드 함수 \n",
    ": 부드러운 곡선, 입력에 따라 출력이 연속적 변화   →  매끈함이 신경망 학습에서 아주 중요\n",
    "\n",
    "##### 2. 계단 함수 \n",
    ": 0을 경계로 출력이 갑자기 바뀜 \n",
    "\n",
    "\n",
    "##### \n",
    "► 퍼셉트론은 뉴런 사이에 0 혹은 1 / 신경망은 연속적인 실수가 흐름\n",
    "\n",
    "#####\n",
    "► 공통점 : 입력이 아무리 작거나 커도 출력은 0에서 1사이"
   ]
  },
  {
   "cell_type": "markdown",
   "metadata": {},
   "source": [
    "### 다차원 배열 계산"
   ]
  },
  {
   "cell_type": "code",
   "execution_count": 33,
   "metadata": {},
   "outputs": [
    {
     "name": "stdout",
     "output_type": "stream",
     "text": [
      "[1 2 3 4]\n"
     ]
    },
    {
     "data": {
      "text/plain": [
       "4"
      ]
     },
     "execution_count": 33,
     "metadata": {},
     "output_type": "execute_result"
    }
   ],
   "source": [
    "# 1차원 배열 수\n",
    "import numpy as np\n",
    "\n",
    "A = np.array([1, 2, 3, 4])\n",
    "\n",
    "print(A)\n",
    "\n",
    "np.ndim(A) # 배열의 차원 수 \n",
    "\n",
    "A.shape\n",
    "\n",
    "A.shape[0] # 다차원 배열일 때와 통일된 형태로 결과 반환하기 위함\n"
   ]
  },
  {
   "cell_type": "code",
   "execution_count": 36,
   "metadata": {},
   "outputs": [
    {
     "name": "stdout",
     "output_type": "stream",
     "text": [
      "[[1 2]\n",
      " [3 4]\n",
      " [5 6]]\n"
     ]
    },
    {
     "data": {
      "text/plain": [
       "(3, 2)"
      ]
     },
     "execution_count": 36,
     "metadata": {},
     "output_type": "execute_result"
    }
   ],
   "source": [
    "# 2차원 배열 수 (행렬)\n",
    "\n",
    "B = np.array([[1, 2], [3, 4], [5, 6]])\n",
    "\n",
    "print(B) \n",
    "\n",
    "np.ndim(B)\n",
    "\n",
    "B.shape"
   ]
  },
  {
   "cell_type": "code",
   "execution_count": 40,
   "metadata": {},
   "outputs": [
    {
     "data": {
      "text/plain": [
       "array([[19, 22],\n",
       "       [43, 50]])"
      ]
     },
     "execution_count": 40,
     "metadata": {},
     "output_type": "execute_result"
    }
   ],
   "source": [
    "# 행렬의 곱\n",
    "\n",
    "A = np.array([[1,2], [3,4]])\n",
    "A.shape\n",
    "\n",
    "B = np.array([[5,6],[7,8]])\n",
    "B.shape\n",
    "\n",
    "np.dot(A, B)  # 넘파이 함수 \n",
    "\n",
    "# 1차원 배열 - 벡터 , 2차원 배열 - 행렬 곱 \n",
    "# 순서에 따라 값 달라진다. "
   ]
  },
  {
   "cell_type": "code",
   "execution_count": 43,
   "metadata": {},
   "outputs": [
    {
     "data": {
      "text/plain": [
       "array([[22, 28],\n",
       "       [49, 64]])"
      ]
     },
     "execution_count": 43,
     "metadata": {},
     "output_type": "execute_result"
    }
   ],
   "source": [
    "# A의 첫번째 차원 원소 수(열 수)와 B의 0번째 차원 원소 수(행 수) 같아야 함\n",
    "\n",
    "A = np.array([[1,2,3],[4,5,6]])\n",
    "A.shape\n",
    "\n",
    "B = np.array([[1,2],[3,4],[5,6]])\n",
    "B.shape\n",
    "\n",
    "np.dot(A, B)"
   ]
  },
  {
   "cell_type": "code",
   "execution_count": 46,
   "metadata": {},
   "outputs": [
    {
     "data": {
      "text/plain": [
       "array([23, 53, 83])"
      ]
     },
     "execution_count": 46,
     "metadata": {},
     "output_type": "execute_result"
    }
   ],
   "source": [
    "A = np.array([[1,2],[3,4],[5,6]])\n",
    "A.shape\n",
    "\n",
    "B =np.array([7,8])\n",
    "B.shape\n",
    "\n",
    "np.dot(A, B)"
   ]
  },
  {
   "cell_type": "code",
   "execution_count": 51,
   "metadata": {},
   "outputs": [
    {
     "name": "stdout",
     "output_type": "stream",
     "text": [
      "[[1 3 5]\n",
      " [2 4 6]]\n",
      "[ 5 11 17]\n"
     ]
    }
   ],
   "source": [
    "# 넘파이 행렬로 신경망 구현\n",
    "x = np.array([1,2])\n",
    "x.shape\n",
    "\n",
    "w = np.array([[1,3,5],[2,4,6]])\n",
    "print(w)\n",
    "\n",
    "w.shape\n",
    "\n",
    "y = np.dot(x,w)\n",
    "print(y)\n",
    "\n",
    "# 다차원 배열의 스칼라곱 구해주는 np.dot 사용 → 결과 y 계산 가능\n",
    "# y의 원소 개수에 상관없이 한 번의 연산으로 계산 가능 \n",
    "# 행렬의 곱으로 한꺼번에 계산해주는 기능 신경망 구현에 매우 중요"
   ]
  }
 ],
 "metadata": {
  "interpreter": {
   "hash": "4685cf8fad66a3b5e1d83fe36d59de227ad64c6532a47c7a0b6e8e6da20ed48b"
  },
  "kernelspec": {
   "display_name": "Python 3.8.13 ('krc')",
   "language": "python",
   "name": "python3"
  },
  "language_info": {
   "codemirror_mode": {
    "name": "ipython",
    "version": 3
   },
   "file_extension": ".py",
   "mimetype": "text/x-python",
   "name": "python",
   "nbconvert_exporter": "python",
   "pygments_lexer": "ipython3",
   "version": "3.8.13"
  },
  "orig_nbformat": 4
 },
 "nbformat": 4,
 "nbformat_minor": 2
}
