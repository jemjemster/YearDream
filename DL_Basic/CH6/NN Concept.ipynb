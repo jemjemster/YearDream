{
 "cells": [
  {
   "cell_type": "markdown",
   "metadata": {},
   "source": [
    "### 신경망 학습의 목적\n",
    ": 손실 함수의 값을 가능한 한 낮추는 매개변수 찾는 것 \n",
    "\n",
    ": 이는 매개변수의 최적값 찾는 문제 \n",
    "\n",
    "→ 최적화 : 이러한 문제 찾는 것\n"
   ]
  },
  {
   "cell_type": "markdown",
   "metadata": {},
   "source": [
    "#### • 확률적 경사 하강법(SGD)\n",
    ": 매개변수의 기울기를 구해, 기울어진 방향으로 매개변수 값을 갱신하는 일을 몇 번이고 반복해서 점점 최적의 값에 다가가는 방법\n",
    "\n",
    ": 지금 서 있는 장소에서 가장 크게 기울어진 방향으로 가자는 것"
   ]
  },
  {
   "cell_type": "code",
   "execution_count": 2,
   "metadata": {},
   "outputs": [],
   "source": [
    "# SGD 구현\n",
    "class SGD:\n",
    "    def __init__(self, lr=0.01):\n",
    "     self.lr = lr  # lr = learning rate(학습률) → 인스턴스 변수로 유지\n",
    " \n",
    "    def update(self, params, grads): # SGD 과정에서 반복해서 불린다. \n",
    "        for key in params.key():\n",
    "            params[key] -= self.lr * grads[key]"
   ]
  },
  {
   "cell_type": "markdown",
   "metadata": {},
   "source": [
    "#### • SGD의 단점\n",
    "\n",
    ": 탐색 경로가 비효율적이라는 것\n",
    "\n",
    ": 비등방성 함수 → 방향에 따라 성질, 즉 여기에서는 기울기가 달라지는 함수 \n",
    "\n",
    ": 개선해주는 모델    \n",
    "\n",
    "ex) momentum, AdaGrad, Adam\n"
   ]
  },
  {
   "cell_type": "code",
   "execution_count": null,
   "metadata": {},
   "outputs": [],
   "source": [
    "class Momentum:\n",
    "\n",
    "    \"\"\"모멘텀 SGD\"\"\"\n",
    "\n",
    "    def __init__(self, lr=0.01, momentum=0.9):\n",
    "        self.lr = lr\n",
    "        self.momentum = momentum\n",
    "        self.v = None  # 인스턴스 변수 v가 물체의 속도 \n",
    "        \n",
    "    def update(self, params, grads):\n",
    "        if self.v is None:\n",
    "            self.v = {}  # v 초기화 때는 아무 값도 담지 않고, \n",
    "            for key, val in params.items():                                \n",
    "                self.v[key] = np.zeros_like(val)\n",
    "                \n",
    "        for key in params.keys():\n",
    "            self.v[key] = self.momentum*self.v[key] - self.lr*grads[key] # 대신 update()가 처음 호출될 때 매개변수와 같은 구조 데이터를 딕셔너리 변수로 저장\n",
    "            params[key] += self.v[key]\n",
    "\n",
    "# 공이 그릇 바닥을 구르듯 움직인다. x축의 힘은 아주 작지만 방향은 변하지 않아서 한 방향으로 일정하게 가속하기 때문\n",
    "# 거꾸로 y축의 힘은 크지만 위아래로 번갈아 받아 상충하여 y축 방향의 속도는 안정적이지 않다.  \n",
    "# 전체적으로는 SGD보다 x축 방향으로 빠르게 다가가 지그재그 움직임이 줄어든다."
   ]
  },
  {
   "cell_type": "markdown",
   "metadata": {},
   "source": [
    "### AdaGrad \n",
    "\n",
    "- 학습률 값이 너무 작으면 학습 시간이 길어지고, 반대로 너무 크면 발산하여 학습이 제대로 이뤄지지 않는다. \n",
    "\n",
    "  → 학습률 감소 : 이 학습률을 정하는 효과적 기술 / 학습 진행하면서 학습률 줄여가는 방법 \n",
    "\n",
    "\n",
    "- 학습률 서서히 낮추는 가장 간단한 방법 : 매개변수 '전체'의 학습률 값을 일괄적으로 낮추는 것\n",
    "\n",
    "\n"
   ]
  },
  {
   "cell_type": "code",
   "execution_count": 5,
   "metadata": {},
   "outputs": [],
   "source": [
    "class AdaGrad:\n",
    "\n",
    "    \"\"\"AdaGrad\"\"\"\n",
    "\n",
    "    def __init__(self, lr=0.01):\n",
    "        self.lr = lr\n",
    "        self.h = None\n",
    "        \n",
    "    def update(self, params, grads):\n",
    "        if self.h is None:\n",
    "            self.h = {}\n",
    "            for key, val in params.items():\n",
    "                self.h[key] = np.zeros_like(val)\n",
    "            \n",
    "        for key in params.keys():\n",
    "            self.h[key] += grads[key] * grads[key]\n",
    "            params[key] -= self.lr * grads[key] / (np.sqrt(self.h[key]) + 1e-7) # 1e-7이라는 값 더하는 부분 "
   ]
  },
  {
   "cell_type": "markdown",
   "metadata": {},
   "source": [
    "### Adam\n",
    "\n",
    "- AdaGrad, Momentum 융합하여 시작한 기법\n",
    "\n",
    "- 매개변수 공간을 효율적으로 탐색 / 하이퍼파라미터의 '편향 보정' 진행 "
   ]
  },
  {
   "cell_type": "code",
   "execution_count": null,
   "metadata": {},
   "outputs": [],
   "source": [
    "class Adam:\n",
    "\n",
    "    \"\"\"Adam (http://arxiv.org/abs/1412.6980v8)\"\"\"\n",
    "\n",
    "    def __init__(self, lr=0.001, beta1=0.9, beta2=0.999):\n",
    "        self.lr = lr\n",
    "        self.beta1 = beta1\n",
    "        self.beta2 = beta2\n",
    "        self.iter = 0\n",
    "        self.m = None\n",
    "        self.v = None\n",
    "        \n",
    "    def update(self, params, grads):\n",
    "        if self.m is None:\n",
    "            self.m, self.v = {}, {}\n",
    "            for key, val in params.items():\n",
    "                self.m[key] = np.zeros_like(val)\n",
    "                self.v[key] = np.zeros_like(val)\n",
    "        \n",
    "        self.iter += 1\n",
    "        lr_t  = self.lr * np.sqrt(1.0 - self.beta2**self.iter) / (1.0 - self.beta1**self.iter)         \n",
    "        \n",
    "        for key in params.keys():\n",
    "            #self.m[key] = self.beta1*self.m[key] + (1-self.beta1)*grads[key]\n",
    "            #self.v[key] = self.beta2*self.v[key] + (1-self.beta2)*(grads[key]**2)\n",
    "            self.m[key] += (1 - self.beta1) * (grads[key] - self.m[key])\n",
    "            self.v[key] += (1 - self.beta2) * (grads[key]**2 - self.v[key])\n",
    "            \n",
    "            params[key] -= lr_t * self.m[key] / (np.sqrt(self.v[key]) + 1e-7)\n",
    "            \n",
    "            #unbias_m += (1 - self.beta1) * (grads[key] - self.m[key]) # correct bias\n",
    "            #unbisa_b += (1 - self.beta2) * (grads[key]*grads[key] - self.v[key]) # correct bias\n",
    "            #params[key] += self.lr * unbias_m / (np.sqrt(unbisa_b) + 1e-7)"
   ]
  },
  {
   "cell_type": "code",
   "execution_count": 6,
   "metadata": {},
   "outputs": [
    {
     "data": {
      "image/png": "[encoded data removed]",
      "text/plain": [
       "<Figure size 432x288 with 4 Axes>"
      ]
     },
     "metadata": {
      "needs_background": "light"
     },
     "output_type": "display_data"
    }
   ],
   "source": [
    "import sys, os\n",
    "sys.path.append(\"/Users/krc/Downloads/deep-learning-from-scratch-master\")  # 부모 디렉터리의 파일을 가져올 수 있도록 설정\n",
    "import numpy as np\n",
    "import matplotlib.pyplot as plt\n",
    "from collections import OrderedDict\n",
    "from common.optimizer import *\n",
    "\n",
    "\n",
    "def f(x, y):\n",
    "    return x**2 / 20.0 + y**2\n",
    "\n",
    "\n",
    "def df(x, y):\n",
    "    return x / 10.0, 2.0*y\n",
    "\n",
    "init_pos = (-7.0, 2.0)\n",
    "params = {}\n",
    "params['x'], params['y'] = init_pos[0], init_pos[1]\n",
    "grads = {}\n",
    "grads['x'], grads['y'] = 0, 0\n",
    "\n",
    "\n",
    "optimizers = OrderedDict()\n",
    "optimizers[\"SGD\"] = SGD(lr=0.95)\n",
    "optimizers[\"Momentum\"] = Momentum(lr=0.1)\n",
    "optimizers[\"AdaGrad\"] = AdaGrad(lr=1.5)\n",
    "optimizers[\"Adam\"] = Adam(lr=0.3)\n",
    "\n",
    "idx = 1\n",
    "\n",
    "for key in optimizers:\n",
    "    optimizer = optimizers[key]\n",
    "    x_history = []\n",
    "    y_history = []\n",
    "    params['x'], params['y'] = init_pos[0], init_pos[1]\n",
    "    \n",
    "    for i in range(30):\n",
    "        x_history.append(params['x'])\n",
    "        y_history.append(params['y'])\n",
    "        \n",
    "        grads['x'], grads['y'] = df(params['x'], params['y'])\n",
    "        optimizer.update(params, grads)\n",
    "    \n",
    "\n",
    "    x = np.arange(-10, 10, 0.01)\n",
    "    y = np.arange(-5, 5, 0.01)\n",
    "    \n",
    "    X, Y = np.meshgrid(x, y) \n",
    "    Z = f(X, Y)\n",
    "    \n",
    "    # 외곽선 단순화\n",
    "    mask = Z > 7\n",
    "    Z[mask] = 0\n",
    "    \n",
    "    # 그래프 그리기\n",
    "    plt.subplot(2, 2, idx)\n",
    "    idx += 1\n",
    "    plt.plot(x_history, y_history, 'o-', color=\"red\")\n",
    "    plt.contour(X, Y, Z)\n",
    "    plt.ylim(-10, 10)\n",
    "    plt.xlim(-10, 10)\n",
    "    plt.plot(0, 0, '+')\n",
    "    #colorbar()\n",
    "    #spring()\n",
    "    plt.title(key)\n",
    "    plt.xlabel(\"x\")\n",
    "    plt.ylabel(\"y\")\n",
    "    \n",
    "plt.show()\n",
    "\n",
    "# AdaGrad가 가장 나은거 같은데, 풀어야 할 문제가 무엇이냐에 따라 달라짐\n",
    "# (학습률 등의) 하이퍼파라미터를 어떻게 설정하느냐에 따라 결과가 바뀐다."
   ]
  },
  {
   "cell_type": "code",
   "execution_count": 7,
   "metadata": {},
   "outputs": [
    {
     "name": "stdout",
     "output_type": "stream",
     "text": [
      "===========iteration:0===========\n",
      "SGD:2.426717318911253\n",
      "Momentum:2.337327275068792\n",
      "AdaGrad:2.286424091247369\n",
      "Adam:2.141201300674293\n",
      "===========iteration:100===========\n",
      "SGD:1.8457801910954685\n",
      "Momentum:0.280697194303796\n",
      "AdaGrad:0.1150760166056898\n",
      "Adam:0.21619488925563923\n",
      "===========iteration:200===========\n",
      "SGD:1.0546805130841115\n",
      "Momentum:0.20812485807079145\n",
      "AdaGrad:0.12478511795044295\n",
      "Adam:0.20414392559890215\n",
      "===========iteration:300===========\n",
      "SGD:0.5255161594690169\n",
      "Momentum:0.1878412037195618\n",
      "AdaGrad:0.12634534950402387\n",
      "Adam:0.15941048457454285\n",
      "===========iteration:400===========\n",
      "SGD:0.4525932505632486\n",
      "Momentum:0.25688108230969076\n",
      "AdaGrad:0.11048353377660114\n",
      "Adam:0.19845548292006052\n",
      "===========iteration:500===========\n",
      "SGD:0.2855132538623474\n",
      "Momentum:0.12119295808169422\n",
      "AdaGrad:0.06168447094204624\n",
      "Adam:0.07841420913887621\n",
      "===========iteration:600===========\n",
      "SGD:0.34702880767373867\n",
      "Momentum:0.125064053587633\n",
      "AdaGrad:0.07362682839899588\n",
      "Adam:0.10611410347521569\n",
      "===========iteration:700===========\n",
      "SGD:0.37182638655488776\n",
      "Momentum:0.16216106616410503\n",
      "AdaGrad:0.12093672847261135\n",
      "Adam:0.14361650086639888\n",
      "===========iteration:800===========\n",
      "SGD:0.21362090522891608\n",
      "Momentum:0.07426975010289197\n",
      "AdaGrad:0.044624905060240076\n",
      "Adam:0.03907135532418839\n",
      "===========iteration:900===========\n",
      "SGD:0.32954772536714755\n",
      "Momentum:0.12471613522677268\n",
      "AdaGrad:0.0414340621608377\n",
      "Adam:0.11173989090875566\n",
      "===========iteration:1000===========\n",
      "SGD:0.19476174002626048\n",
      "Momentum:0.04281130525306456\n",
      "AdaGrad:0.019581076701650657\n",
      "Adam:0.0178913849520941\n",
      "===========iteration:1100===========\n",
      "SGD:0.27359146372966436\n",
      "Momentum:0.12644528970560584\n",
      "AdaGrad:0.07981662357000065\n",
      "Adam:0.13273147840081478\n",
      "===========iteration:1200===========\n",
      "SGD:0.27616753529802157\n",
      "Momentum:0.10141071194058063\n",
      "AdaGrad:0.04347644469293023\n",
      "Adam:0.05928603954480205\n",
      "===========iteration:1300===========\n",
      "SGD:0.28539516780847474\n",
      "Momentum:0.09672420518765439\n",
      "AdaGrad:0.04814315167736169\n",
      "Adam:0.035288250929134034\n",
      "===========iteration:1400===========\n",
      "SGD:0.17646207464619879\n",
      "Momentum:0.04483200585063529\n",
      "AdaGrad:0.016164013299067772\n",
      "Adam:0.028164280021244305\n",
      "===========iteration:1500===========\n",
      "SGD:0.2680150280734037\n",
      "Momentum:0.1086117390205621\n",
      "AdaGrad:0.05260218568735556\n",
      "Adam:0.04664422097069861\n",
      "===========iteration:1600===========\n",
      "SGD:0.14117762091138875\n",
      "Momentum:0.08510054019928641\n",
      "AdaGrad:0.015100819865459164\n",
      "Adam:0.015615147727670576\n",
      "===========iteration:1700===========\n",
      "SGD:0.12023869536457645\n",
      "Momentum:0.07489953400315705\n",
      "AdaGrad:0.019936213499928575\n",
      "Adam:0.01374658738078232\n",
      "===========iteration:1800===========\n",
      "SGD:0.21872167554751193\n",
      "Momentum:0.09763839618342778\n",
      "AdaGrad:0.06597423471686184\n",
      "Adam:0.09877556193424109\n",
      "===========iteration:1900===========\n",
      "SGD:0.15717351608217775\n",
      "Momentum:0.046140819645266215\n",
      "AdaGrad:0.02463461968239458\n",
      "Adam:0.043750188767362974\n"
     ]
    },
    {
     "data": {
      "image/png": "[encoded data removed]",
      "text/plain": [
       "<Figure size 432x288 with 1 Axes>"
      ]
     },
     "metadata": {
      "needs_background": "light"
     },
     "output_type": "display_data"
    }
   ],
   "source": [
    "import os\n",
    "import sys\n",
    "sys.path.append(\"/Users/krc/Downloads/deep-learning-from-scratch-master\")  # 부모 디렉터리의 파일을 가져올 수 있도록 설정\n",
    "import matplotlib.pyplot as plt\n",
    "from dataset.mnist import load_mnist\n",
    "from common.util import smooth_curve\n",
    "from common.multi_layer_net import MultiLayerNet\n",
    "from common.optimizer import *\n",
    "\n",
    "\n",
    "# 0. MNIST 데이터 읽기==========\n",
    "(x_train, t_train), (x_test, t_test) = load_mnist(normalize=True)\n",
    "\n",
    "train_size = x_train.shape[0]\n",
    "batch_size = 128\n",
    "max_iterations = 2000\n",
    "\n",
    "\n",
    "# 1. 실험용 설정==========\n",
    "optimizers = {}\n",
    "optimizers['SGD'] = SGD()\n",
    "optimizers['Momentum'] = Momentum()\n",
    "optimizers['AdaGrad'] = AdaGrad()\n",
    "optimizers['Adam'] = Adam()\n",
    "#optimizers['RMSprop'] = RMSprop()\n",
    "\n",
    "networks = {}\n",
    "train_loss = {}\n",
    "for key in optimizers.keys():\n",
    "    networks[key] = MultiLayerNet(\n",
    "        input_size=784, hidden_size_list=[100, 100, 100, 100],\n",
    "        output_size=10)\n",
    "    train_loss[key] = []    \n",
    "\n",
    "\n",
    "# 2. 훈련 시작==========\n",
    "for i in range(max_iterations):\n",
    "    batch_mask = np.random.choice(train_size, batch_size)\n",
    "    x_batch = x_train[batch_mask]\n",
    "    t_batch = t_train[batch_mask]\n",
    "    \n",
    "    for key in optimizers.keys():\n",
    "        grads = networks[key].gradient(x_batch, t_batch)\n",
    "        optimizers[key].update(networks[key].params, grads)\n",
    "    \n",
    "        loss = networks[key].loss(x_batch, t_batch)\n",
    "        train_loss[key].append(loss)\n",
    "    \n",
    "    if i % 100 == 0:\n",
    "        print( \"===========\" + \"iteration:\" + str(i) + \"===========\")\n",
    "        for key in optimizers.keys():\n",
    "            loss = networks[key].loss(x_batch, t_batch)\n",
    "            print(key + \":\" + str(loss))\n",
    "\n",
    "\n",
    "# 3. 그래프 그리기==========\n",
    "markers = {\"SGD\": \"o\", \"Momentum\": \"x\", \"AdaGrad\": \"s\", \"Adam\": \"D\"}\n",
    "x = np.arange(max_iterations)\n",
    "for key in optimizers.keys():\n",
    "    plt.plot(x, smooth_curve(train_loss[key]), marker=markers[key], markevery=100, label=key)\n",
    "plt.xlabel(\"iterations\")\n",
    "plt.ylabel(\"loss\")\n",
    "plt.ylim(0, 1)\n",
    "plt.legend()\n",
    "plt.show()\n",
    "\n",
    "# SGD의 학습 진도가 가장 느리다. 하이퍼파라미터인 학습률과 신경망의 구조(층 깊이 등)에 따라 결과가 달라진다.\n"
   ]
  },
  {
   "cell_type": "markdown",
   "metadata": {},
   "source": [
    "### ★ 가중치의 초깃값 ★    \n",
    "신경망 학습에서 가장 중요!!  \n",
    "\n",
    "\n",
    ": 가중치의 초깃값을 무엇으로 설정하느냐가 신경망 학습의 성패가 가르는 일이 자주 있다. "
   ]
  },
  {
   "cell_type": "markdown",
   "metadata": {},
   "source": [
    "#### • 가중치 감소 기법\n",
    "\n",
    ": 가중치 매개변수의 값이 작아지도록 학습하는 방법 \n",
    "\n",
    "→ 가중치 값을 작게 하여 오버피팅이 일어나지 않게 하는 것  "
   ]
  },
  {
   "cell_type": "markdown",
   "metadata": {},
   "source": [
    "• 초깃값을 모두 0으로 해서는 안 되는 이유는 ?\n",
    "\n",
    ": 오차역전파법에서 모든 가중치의 값이 똑같이 갱신되기 때문"
   ]
  },
  {
   "cell_type": "code",
   "execution_count": 23,
   "metadata": {},
   "outputs": [
    {
     "data": {
      "image/png": "[encoded data removed]",
      "text/plain": [
       "<Figure size 432x288 with 5 Axes>"
      ]
     },
     "metadata": {
      "needs_background": "light"
     },
     "output_type": "display_data"
    }
   ],
   "source": [
    "import numpy as np\n",
    "import matplotlib.pyplot as plt\n",
    "\n",
    "\n",
    "def sigmoid(x):\n",
    "    return 1 / (1 + np.exp(-x))\n",
    "\n",
    "\n",
    "def ReLU(x):\n",
    "    return np.maximum(0, x)\n",
    "\n",
    "\n",
    "def tanh(x):\n",
    "    return np.tanh(x)\n",
    "\n",
    "\n",
    "input_data = np.random.randn(1000, 100)  # 1000개의 데이터\n",
    "node_num = 100  # 각 은닉층의 노드(뉴런) 수\n",
    "hidden_layer_size = 5  # 은닉층이 5개\n",
    "activations = {}  # 이곳에 활성화 결과를 저장\n",
    "\n",
    "x = input_data\n",
    "\n",
    "for i in range(hidden_layer_size):\n",
    "    if i != 0:\n",
    "        x = activations[i-1]\n",
    "\n",
    "    # 초깃값을 다양하게 바꿔가며 실험해보자！\n",
    "    w = np.random.randn(node_num, node_num) * 1\n",
    "    # w = np.random.randn(node_num, node_num) * 0.01\n",
    "    # w = np.random.randn(node_num, node_num) * np.sqrt(1.0 / node_num)\n",
    "    # w = np.random.randn(node_num, node_num) * np.sqrt(2.0 / node_num)\n",
    "\n",
    "    a = np.dot(x, w)\n",
    "\n",
    "    # 활성화 함수도 바꿔가며 실험해보자！\n",
    "    z = sigmoid(a)\n",
    "    # z = ReLU(a)\n",
    "    # z = tanh(a)\n",
    "\n",
    "    activations[i] = z\n",
    "\n",
    "# 히스토그램 그리기\n",
    "for i, a in activations.items():\n",
    "    plt.subplot(1, len(activations), i+1)\n",
    "    plt.title(str(i+1) + \"-layer\")\n",
    "    if i != 0:\n",
    "        plt.yticks([], [])\n",
    "    # plt.xlim(0.1, 1)\n",
    "    # plt.ylim(0, 7000)\n",
    "    plt.hist(a.flatten(), 30, range=(0, 1))\n",
    "\n",
    "plt.show()\n",
    "\n",
    "# 층 5개, 각 층의 뉴런 100개씩. 입력 데이터로 1,000개의 데이터를 정규분포로 무작위로 생성하여 5층 신경망에 흘림\n",
    "# 활성화 함수로 시그모이드 함수 사용, 각 층의 활성화 결과 activations 변수에 저장\n",
    "# 그래프 보면 각 층의 활성화값들이 0과 1에 치우쳐 분포 → 시그모이드 함수는 출력이 0에 가까워지자(1에 가까워지자) 미분은 0에 다가간다.\n",
    "# 데이터가 0과 1에 치우쳐 분포하게 되면 역전파의 기울기 값이 점점 작아지다가 사라진다. \n",
    "# \"기울기 소실\""
   ]
  },
  {
   "cell_type": "code",
   "execution_count": 27,
   "metadata": {},
   "outputs": [],
   "source": [
    "# Xavier 초깃값\n",
    "\n",
    "node_num = 100\n",
    "w = np.random.randn(node_num, node_num) / np.sqrt(node_num)"
   ]
  },
  {
   "cell_type": "markdown",
   "metadata": {},
   "source": [
    "#### • Xavier 초깃값 \n",
    "\n",
    ": 층이 깊어지면서 치우침이 조금씩 커짐 \n",
    "\n",
    ": 실제로 층이 깊어지면 활성화값들의 치우침도 커지고, 학습할 때 '기울기 소실' 문제를 일으킨다.\n",
    "\n",
    "\n",
    "#### • He 초깃값\n",
    "\n",
    ": 모든 층에서 균일하게 분포됨\n",
    "\n",
    ": 층이 깊어져도 분포가 균일하게 유지되어 역전파 때도 적절한 값이 나올 것으로 기대"
   ]
  },
  {
   "cell_type": "markdown",
   "metadata": {},
   "source": [
    "##### ► 활성화 함수로 ReLU 사용할 땐 He 초깃값, sigmoid나 tanh 등 s자 모양 곡선일 때는 Xavier 초깃값 사용 "
   ]
  },
  {
   "cell_type": "code",
   "execution_count": 28,
   "metadata": {},
   "outputs": [
    {
     "name": "stdout",
     "output_type": "stream",
     "text": [
      "===========iteration:0===========\n",
      "std=0.01:2.30244159431867\n",
      "Xavier:2.296021978232713\n",
      "He:2.3144494759573986\n",
      "===========iteration:100===========\n",
      "std=0.01:2.302289555421056\n",
      "Xavier:2.2542044305935667\n",
      "He:1.4173255239105322\n",
      "===========iteration:200===========\n",
      "std=0.01:2.301890491875098\n",
      "Xavier:2.114717497633113\n",
      "He:0.7204868480480419\n",
      "===========iteration:300===========\n",
      "std=0.01:2.30358767981384\n",
      "Xavier:1.8466069845290227\n",
      "He:0.5074167536942169\n",
      "===========iteration:400===========\n",
      "std=0.01:2.3036146320678346\n",
      "Xavier:1.264618385674354\n",
      "He:0.3852151371916603\n",
      "===========iteration:500===========\n",
      "std=0.01:2.299974182234336\n",
      "Xavier:0.8917565827477396\n",
      "He:0.39925592169257307\n",
      "===========iteration:600===========\n",
      "std=0.01:2.3024806653343357\n",
      "Xavier:0.6724621180804109\n",
      "He:0.3010217819355009\n",
      "===========iteration:700===========\n",
      "std=0.01:2.3082560463805555\n",
      "Xavier:0.6540669467289986\n",
      "He:0.35985078967033557\n",
      "===========iteration:800===========\n",
      "std=0.01:2.3025678726521157\n",
      "Xavier:0.6253558142875945\n",
      "He:0.37412501616458405\n",
      "===========iteration:900===========\n",
      "std=0.01:2.3014204746889972\n",
      "Xavier:0.45180356025828516\n",
      "He:0.2644712059812249\n",
      "===========iteration:1000===========\n",
      "std=0.01:2.3020940329439297\n",
      "Xavier:0.5185808116774285\n",
      "He:0.33047530021328414\n",
      "===========iteration:1100===========\n",
      "std=0.01:2.300895221097944\n",
      "Xavier:0.3797016015251714\n",
      "He:0.22030955493693416\n",
      "===========iteration:1200===========\n",
      "std=0.01:2.3052631662963052\n",
      "Xavier:0.45340645293664905\n",
      "He:0.3577392988065349\n",
      "===========iteration:1300===========\n",
      "std=0.01:2.3014246787693815\n",
      "Xavier:0.3965047150112829\n",
      "He:0.28448149824905067\n",
      "===========iteration:1400===========\n",
      "std=0.01:2.31178175344423\n",
      "Xavier:0.39597408995152655\n",
      "He:0.2851222165394886\n",
      "===========iteration:1500===========\n",
      "std=0.01:2.307068949477309\n",
      "Xavier:0.46063425076279785\n",
      "He:0.3114024992730667\n",
      "===========iteration:1600===========\n",
      "std=0.01:2.3029286734574264\n",
      "Xavier:0.29929712165760375\n",
      "He:0.1644128778706564\n",
      "===========iteration:1700===========\n",
      "std=0.01:2.3080762268736836\n",
      "Xavier:0.28545269261860456\n",
      "He:0.23288874653632208\n",
      "===========iteration:1800===========\n",
      "std=0.01:2.3022853250214093\n",
      "Xavier:0.4374147355998139\n",
      "He:0.3146823304357384\n",
      "===========iteration:1900===========\n",
      "std=0.01:2.3069193514600235\n",
      "Xavier:0.2282838371032307\n",
      "He:0.1431657473438202\n"
     ]
    },
    {
     "data": {
      "image/png": "[encoded data removed]",
      "text/plain": [
       "<Figure size 432x288 with 1 Axes>"
      ]
     },
     "metadata": {
      "needs_background": "light"
     },
     "output_type": "display_data"
    }
   ],
   "source": [
    "# MNIST 데이터셋으로 본 가중치 초깃값 비교\n",
    "import os\n",
    "import sys\n",
    "\n",
    "sys.path.append('/Users/krc/Downloads/deep-learning-from-scratch-master/ch06')  # 부모 디렉터리의 파일을 가져올 수 있도록 설정\n",
    "import numpy as np\n",
    "import matplotlib.pyplot as plt\n",
    "from dataset.mnist import load_mnist\n",
    "from common.util import smooth_curve\n",
    "from common.multi_layer_net import MultiLayerNet\n",
    "from common.optimizer import SGD\n",
    "\n",
    "\n",
    "# 0. MNIST 데이터 읽기==========\n",
    "(x_train, t_train), (x_test, t_test) = load_mnist(normalize=True)\n",
    "\n",
    "train_size = x_train.shape[0]\n",
    "batch_size = 128\n",
    "max_iterations = 2000\n",
    "\n",
    "\n",
    "# 1. 실험용 설정==========\n",
    "weight_init_types = {'std=0.01': 0.01, 'Xavier': 'sigmoid', 'He': 'relu'}\n",
    "optimizer = SGD(lr=0.01)\n",
    "\n",
    "networks = {}\n",
    "train_loss = {}\n",
    "for key, weight_type in weight_init_types.items():\n",
    "    networks[key] = MultiLayerNet(input_size=784, hidden_size_list=[100, 100, 100, 100],\n",
    "                                  output_size=10, weight_init_std=weight_type)\n",
    "    train_loss[key] = []\n",
    "\n",
    "\n",
    "# 2. 훈련 시작==========\n",
    "for i in range(max_iterations):\n",
    "    batch_mask = np.random.choice(train_size, batch_size)\n",
    "    x_batch = x_train[batch_mask]\n",
    "    t_batch = t_train[batch_mask]\n",
    "    \n",
    "    for key in weight_init_types.keys():\n",
    "        grads = networks[key].gradient(x_batch, t_batch)\n",
    "        optimizer.update(networks[key].params, grads)\n",
    "    \n",
    "        loss = networks[key].loss(x_batch, t_batch)\n",
    "        train_loss[key].append(loss)\n",
    "    \n",
    "    if i % 100 == 0:\n",
    "        print(\"===========\" + \"iteration:\" + str(i) + \"===========\")\n",
    "        for key in weight_init_types.keys():\n",
    "            loss = networks[key].loss(x_batch, t_batch)\n",
    "            print(key + \":\" + str(loss))\n",
    "\n",
    "\n",
    "# 3. 그래프 그리기==========\n",
    "markers = {'std=0.01': 'o', 'Xavier': 's', 'He': 'D'}\n",
    "x = np.arange(max_iterations)\n",
    "for key in weight_init_types.keys():\n",
    "    plt.plot(x, smooth_curve(train_loss[key]), marker=markers[key], markevery=100, label=key)\n",
    "plt.xlabel(\"iterations\")\n",
    "plt.ylabel(\"loss\")\n",
    "plt.ylim(0, 2.5)\n",
    "plt.legend()\n",
    "plt.show()\n",
    "\n",
    "# 층별 뉴런 수가 100개인 5층 신경망에서 활성화 함수로 ReLU tkdyd \n",
    "# std = 0.01일 땐 학습이 이뤄지지 않는다. → 순전파 때 너무 작은 값(0 근처로 밀집한 데이터) 흐르기 때문 \n",
    "# 역전파 때의 기울기도 작아져 가중치가 거의 갱신되지 않음\n"
   ]
  },
  {
   "cell_type": "markdown",
   "metadata": {},
   "source": [
    "### 배치 정규화 \n",
    "\n",
    "- 학습을 빨리 진행할 수 있다. (학습 속도 개선)\n",
    "\n",
    "- 초깃값에 크게 의존하지 않는다. (골치 아픈 초깃갑 선택 안해도 됨)\n",
    "\n",
    "- 오버피팅을 억제한다. (드롭아웃 등의 필요성 감소)\n",
    "\n",
    "#### \n",
    "▶︎ 초깃값에 크게 신경 쓸 필요가 없고, 오버피팅 억제 효과가 있다는 점"
   ]
  },
  {
   "cell_type": "code",
   "execution_count": 34,
   "metadata": {},
   "outputs": [
    {
     "name": "stdout",
     "output_type": "stream",
     "text": [
      "============== 1/16 ==============\n",
      "epoch:0 | 0.1 - 0.064\n"
     ]
    },
    {
     "name": "stderr",
     "output_type": "stream",
     "text": [
      "/Users/krc/Downloads/deep-learning-from-scratch-master/common/multi_layer_net_extend.py:104: RuntimeWarning: overflow encountered in square\n",
      "  weight_decay += 0.5 * self.weight_decay_lambda * np.sum(W**2)\n",
      "/Users/krc/Downloads/deep-learning-from-scratch-master/common/multi_layer_net_extend.py:104: RuntimeWarning: invalid value encountered in double_scalars\n",
      "  weight_decay += 0.5 * self.weight_decay_lambda * np.sum(W**2)\n"
     ]
    },
    {
     "name": "stdout",
     "output_type": "stream",
     "text": [
      "epoch:1 | 0.097 - 0.085\n",
      "epoch:2 | 0.097 - 0.141\n",
      "epoch:3 | 0.097 - 0.172\n",
      "epoch:4 | 0.097 - 0.191\n",
      "epoch:5 | 0.097 - 0.201\n",
      "epoch:6 | 0.097 - 0.226\n",
      "epoch:7 | 0.097 - 0.24\n",
      "epoch:8 | 0.097 - 0.262\n",
      "epoch:9 | 0.097 - 0.272\n",
      "epoch:10 | 0.097 - 0.284\n",
      "epoch:11 | 0.097 - 0.315\n",
      "epoch:12 | 0.097 - 0.333\n",
      "epoch:13 | 0.097 - 0.339\n",
      "epoch:14 | 0.097 - 0.343\n",
      "epoch:15 | 0.097 - 0.373\n",
      "epoch:16 | 0.097 - 0.386\n",
      "epoch:17 | 0.097 - 0.397\n",
      "epoch:18 | 0.097 - 0.424\n"
     ]
    },
    {
     "name": "stderr",
     "output_type": "stream",
     "text": [
      "No artists with labels found to put in legend.  Note that artists whose label start with an underscore are ignored when legend() is called with no argument.\n"
     ]
    },
    {
     "name": "stdout",
     "output_type": "stream",
     "text": [
      "epoch:19 | 0.097 - 0.416\n",
      "============== 2/16 ==============\n",
      "epoch:0 | 0.097 - 0.127\n",
      "epoch:1 | 0.097 - 0.113\n"
     ]
    },
    {
     "name": "stderr",
     "output_type": "stream",
     "text": [
      "/Users/krc/Downloads/deep-learning-from-scratch-master/common/multi_layer_net_extend.py:104: RuntimeWarning: overflow encountered in square\n",
      "  weight_decay += 0.5 * self.weight_decay_lambda * np.sum(W**2)\n",
      "/Users/krc/Downloads/deep-learning-from-scratch-master/common/multi_layer_net_extend.py:104: RuntimeWarning: invalid value encountered in double_scalars\n",
      "  weight_decay += 0.5 * self.weight_decay_lambda * np.sum(W**2)\n",
      "/Users/krc/miniforge3/envs/krc/lib/python3.8/site-packages/numpy/core/fromnumeric.py:86: RuntimeWarning: overflow encountered in reduce\n",
      "  return ufunc.reduce(obj, axis, dtype, out, **passkwargs)\n"
     ]
    },
    {
     "name": "stdout",
     "output_type": "stream",
     "text": [
      "epoch:2 | 0.097 - 0.129\n",
      "epoch:3 | 0.097 - 0.137\n",
      "epoch:4 | 0.097 - 0.157\n",
      "epoch:5 | 0.097 - 0.172\n",
      "epoch:6 | 0.097 - 0.192\n",
      "epoch:7 | 0.097 - 0.218\n",
      "epoch:8 | 0.097 - 0.248\n",
      "epoch:9 | 0.097 - 0.262\n",
      "epoch:10 | 0.097 - 0.298\n",
      "epoch:11 | 0.097 - 0.311\n",
      "epoch:12 | 0.097 - 0.327\n",
      "epoch:13 | 0.097 - 0.352\n",
      "epoch:14 | 0.097 - 0.37\n",
      "epoch:15 | 0.097 - 0.406\n",
      "epoch:16 | 0.097 - 0.42\n",
      "epoch:17 | 0.097 - 0.44\n"
     ]
    },
    {
     "name": "stderr",
     "output_type": "stream",
     "text": [
      "No artists with labels found to put in legend.  Note that artists whose label start with an underscore are ignored when legend() is called with no argument.\n"
     ]
    },
    {
     "name": "stdout",
     "output_type": "stream",
     "text": [
      "epoch:18 | 0.097 - 0.455\n",
      "epoch:19 | 0.097 - 0.464\n",
      "============== 3/16 ==============\n",
      "epoch:0 | 0.137 - 0.144\n",
      "epoch:1 | 0.361 - 0.148\n",
      "epoch:2 | 0.517 - 0.155\n",
      "epoch:3 | 0.611 - 0.188\n",
      "epoch:4 | 0.681 - 0.212\n",
      "epoch:5 | 0.736 - 0.26\n",
      "epoch:6 | 0.792 - 0.293\n",
      "epoch:7 | 0.825 - 0.327\n",
      "epoch:8 | 0.863 - 0.354\n",
      "epoch:9 | 0.894 - 0.385\n",
      "epoch:10 | 0.899 - 0.421\n",
      "epoch:11 | 0.918 - 0.446\n",
      "epoch:12 | 0.935 - 0.469\n",
      "epoch:13 | 0.95 - 0.505\n",
      "epoch:14 | 0.957 - 0.517\n",
      "epoch:15 | 0.967 - 0.549\n",
      "epoch:16 | 0.97 - 0.563\n",
      "epoch:17 | 0.98 - 0.59\n",
      "epoch:18 | 0.984 - 0.598\n"
     ]
    },
    {
     "name": "stderr",
     "output_type": "stream",
     "text": [
      "No artists with labels found to put in legend.  Note that artists whose label start with an underscore are ignored when legend() is called with no argument.\n"
     ]
    },
    {
     "name": "stdout",
     "output_type": "stream",
     "text": [
      "epoch:19 | 0.988 - 0.614\n",
      "============== 4/16 ==============\n",
      "epoch:0 | 0.108 - 0.1\n",
      "epoch:1 | 0.194 - 0.107\n",
      "epoch:2 | 0.34 - 0.18\n",
      "epoch:3 | 0.445 - 0.267\n",
      "epoch:4 | 0.55 - 0.347\n",
      "epoch:5 | 0.602 - 0.397\n",
      "epoch:6 | 0.654 - 0.469\n",
      "epoch:7 | 0.682 - 0.511\n",
      "epoch:8 | 0.715 - 0.565\n",
      "epoch:9 | 0.735 - 0.595\n",
      "epoch:10 | 0.753 - 0.623\n",
      "epoch:11 | 0.769 - 0.651\n",
      "epoch:12 | 0.778 - 0.677\n",
      "epoch:13 | 0.804 - 0.689\n",
      "epoch:14 | 0.818 - 0.703\n",
      "epoch:15 | 0.836 - 0.727\n",
      "epoch:16 | 0.837 - 0.74\n",
      "epoch:17 | 0.847 - 0.76\n"
     ]
    },
    {
     "name": "stderr",
     "output_type": "stream",
     "text": [
      "No artists with labels found to put in legend.  Note that artists whose label start with an underscore are ignored when legend() is called with no argument.\n"
     ]
    },
    {
     "name": "stdout",
     "output_type": "stream",
     "text": [
      "epoch:18 | 0.848 - 0.769\n",
      "epoch:19 | 0.865 - 0.787\n",
      "============== 5/16 ==============\n",
      "epoch:0 | 0.095 - 0.099\n",
      "epoch:1 | 0.101 - 0.126\n",
      "epoch:2 | 0.109 - 0.247\n",
      "epoch:3 | 0.117 - 0.377\n",
      "epoch:4 | 0.138 - 0.501\n",
      "epoch:5 | 0.149 - 0.609\n",
      "epoch:6 | 0.183 - 0.672\n",
      "epoch:7 | 0.198 - 0.709\n",
      "epoch:8 | 0.207 - 0.737\n",
      "epoch:9 | 0.224 - 0.773\n",
      "epoch:10 | 0.231 - 0.784\n",
      "epoch:11 | 0.243 - 0.8\n",
      "epoch:12 | 0.253 - 0.81\n",
      "epoch:13 | 0.253 - 0.827\n",
      "epoch:14 | 0.252 - 0.836\n",
      "epoch:15 | 0.254 - 0.848\n",
      "epoch:16 | 0.259 - 0.862\n",
      "epoch:17 | 0.27 - 0.87\n",
      "epoch:18 | 0.276 - 0.88\n"
     ]
    },
    {
     "name": "stderr",
     "output_type": "stream",
     "text": [
      "No artists with labels found to put in legend.  Note that artists whose label start with an underscore are ignored when legend() is called with no argument.\n"
     ]
    },
    {
     "name": "stdout",
     "output_type": "stream",
     "text": [
      "epoch:19 | 0.279 - 0.889\n",
      "============== 6/16 ==============\n",
      "epoch:0 | 0.132 - 0.111\n",
      "epoch:1 | 0.118 - 0.199\n",
      "epoch:2 | 0.117 - 0.403\n",
      "epoch:3 | 0.117 - 0.535\n",
      "epoch:4 | 0.117 - 0.613\n",
      "epoch:5 | 0.118 - 0.674\n",
      "epoch:6 | 0.122 - 0.731\n",
      "epoch:7 | 0.117 - 0.78\n",
      "epoch:8 | 0.117 - 0.815\n",
      "epoch:9 | 0.117 - 0.837\n",
      "epoch:10 | 0.117 - 0.857\n",
      "epoch:11 | 0.117 - 0.873\n",
      "epoch:12 | 0.117 - 0.888\n",
      "epoch:13 | 0.117 - 0.904\n",
      "epoch:14 | 0.117 - 0.908\n",
      "epoch:15 | 0.117 - 0.918\n",
      "epoch:16 | 0.117 - 0.922\n",
      "epoch:17 | 0.117 - 0.933\n"
     ]
    },
    {
     "name": "stderr",
     "output_type": "stream",
     "text": [
      "No artists with labels found to put in legend.  Note that artists whose label start with an underscore are ignored when legend() is called with no argument.\n"
     ]
    },
    {
     "name": "stdout",
     "output_type": "stream",
     "text": [
      "epoch:18 | 0.117 - 0.935\n",
      "epoch:19 | 0.117 - 0.94\n",
      "============== 7/16 ==============\n",
      "epoch:0 | 0.093 - 0.089\n",
      "epoch:1 | 0.116 - 0.253\n",
      "epoch:2 | 0.116 - 0.619\n",
      "epoch:3 | 0.116 - 0.706\n",
      "epoch:4 | 0.116 - 0.739\n",
      "epoch:5 | 0.116 - 0.781\n",
      "epoch:6 | 0.116 - 0.809\n",
      "epoch:7 | 0.117 - 0.831\n",
      "epoch:8 | 0.117 - 0.876\n",
      "epoch:9 | 0.117 - 0.899\n",
      "epoch:10 | 0.117 - 0.921\n",
      "epoch:11 | 0.117 - 0.942\n",
      "epoch:12 | 0.117 - 0.949\n",
      "epoch:13 | 0.117 - 0.957\n",
      "epoch:14 | 0.117 - 0.966\n",
      "epoch:15 | 0.117 - 0.976\n",
      "epoch:16 | 0.117 - 0.977\n",
      "epoch:17 | 0.117 - 0.982\n"
     ]
    },
    {
     "name": "stderr",
     "output_type": "stream",
     "text": [
      "No artists with labels found to put in legend.  Note that artists whose label start with an underscore are ignored when legend() is called with no argument.\n"
     ]
    },
    {
     "name": "stdout",
     "output_type": "stream",
     "text": [
      "epoch:18 | 0.117 - 0.984\n",
      "epoch:19 | 0.117 - 0.984\n",
      "============== 8/16 ==============\n",
      "epoch:0 | 0.087 - 0.083\n",
      "epoch:1 | 0.116 - 0.421\n",
      "epoch:2 | 0.117 - 0.696\n",
      "epoch:3 | 0.116 - 0.801\n",
      "epoch:4 | 0.116 - 0.845\n",
      "epoch:5 | 0.116 - 0.893\n",
      "epoch:6 | 0.116 - 0.933\n",
      "epoch:7 | 0.116 - 0.949\n",
      "epoch:8 | 0.117 - 0.961\n",
      "epoch:9 | 0.116 - 0.973\n",
      "epoch:10 | 0.116 - 0.982\n",
      "epoch:11 | 0.116 - 0.989\n",
      "epoch:12 | 0.116 - 0.991\n",
      "epoch:13 | 0.116 - 0.995\n",
      "epoch:14 | 0.116 - 0.997\n",
      "epoch:15 | 0.116 - 0.996\n",
      "epoch:16 | 0.116 - 0.995\n",
      "epoch:17 | 0.116 - 0.998\n"
     ]
    },
    {
     "name": "stderr",
     "output_type": "stream",
     "text": [
      "No artists with labels found to put in legend.  Note that artists whose label start with an underscore are ignored when legend() is called with no argument.\n"
     ]
    },
    {
     "name": "stdout",
     "output_type": "stream",
     "text": [
      "epoch:18 | 0.116 - 0.999\n",
      "epoch:19 | 0.116 - 0.999\n",
      "============== 9/16 ==============\n",
      "epoch:0 | 0.116 - 0.108\n",
      "epoch:1 | 0.116 - 0.528\n",
      "epoch:2 | 0.116 - 0.653\n",
      "epoch:3 | 0.117 - 0.793\n",
      "epoch:4 | 0.117 - 0.874\n",
      "epoch:5 | 0.116 - 0.899\n",
      "epoch:6 | 0.116 - 0.934\n",
      "epoch:7 | 0.116 - 0.972\n",
      "epoch:8 | 0.116 - 0.985\n",
      "epoch:9 | 0.116 - 0.988\n",
      "epoch:10 | 0.116 - 0.995\n",
      "epoch:11 | 0.117 - 0.996\n",
      "epoch:12 | 0.117 - 0.997\n",
      "epoch:13 | 0.117 - 0.999\n",
      "epoch:14 | 0.117 - 0.999\n",
      "epoch:15 | 0.117 - 0.999\n",
      "epoch:16 | 0.117 - 0.999\n",
      "epoch:17 | 0.117 - 0.999\n",
      "epoch:18 | 0.117 - 0.999\n"
     ]
    },
    {
     "name": "stderr",
     "output_type": "stream",
     "text": [
      "No artists with labels found to put in legend.  Note that artists whose label start with an underscore are ignored when legend() is called with no argument.\n"
     ]
    },
    {
     "name": "stdout",
     "output_type": "stream",
     "text": [
      "epoch:19 | 0.117 - 0.999\n",
      "============== 10/16 ==============\n",
      "epoch:0 | 0.099 - 0.101\n",
      "epoch:1 | 0.116 - 0.655\n",
      "epoch:2 | 0.116 - 0.768\n",
      "epoch:3 | 0.117 - 0.802\n",
      "epoch:4 | 0.116 - 0.824\n",
      "epoch:5 | 0.116 - 0.857\n",
      "epoch:6 | 0.116 - 0.89\n",
      "epoch:7 | 0.116 - 0.937\n",
      "epoch:8 | 0.116 - 0.95\n",
      "epoch:9 | 0.116 - 0.986\n",
      "epoch:10 | 0.116 - 0.987\n",
      "epoch:11 | 0.116 - 0.994\n",
      "epoch:12 | 0.116 - 0.998\n",
      "epoch:13 | 0.116 - 0.999\n",
      "epoch:14 | 0.116 - 0.999\n",
      "epoch:15 | 0.116 - 0.999\n",
      "epoch:16 | 0.116 - 0.999\n",
      "epoch:17 | 0.116 - 1.0\n",
      "epoch:18 | 0.116 - 1.0\n"
     ]
    },
    {
     "name": "stderr",
     "output_type": "stream",
     "text": [
      "No artists with labels found to put in legend.  Note that artists whose label start with an underscore are ignored when legend() is called with no argument.\n"
     ]
    },
    {
     "name": "stdout",
     "output_type": "stream",
     "text": [
      "epoch:19 | 0.116 - 1.0\n",
      "============== 11/16 ==============\n",
      "epoch:0 | 0.087 - 0.187\n",
      "epoch:1 | 0.116 - 0.611\n",
      "epoch:2 | 0.116 - 0.722\n",
      "epoch:3 | 0.116 - 0.789\n",
      "epoch:4 | 0.116 - 0.722\n",
      "epoch:5 | 0.116 - 0.835\n",
      "epoch:6 | 0.116 - 0.87\n",
      "epoch:7 | 0.116 - 0.889\n",
      "epoch:8 | 0.116 - 0.884\n",
      "epoch:9 | 0.116 - 0.857\n",
      "epoch:10 | 0.116 - 0.898\n",
      "epoch:11 | 0.116 - 0.983\n",
      "epoch:12 | 0.116 - 0.981\n",
      "epoch:13 | 0.116 - 0.991\n",
      "epoch:14 | 0.116 - 0.945\n",
      "epoch:15 | 0.116 - 0.993\n",
      "epoch:16 | 0.116 - 0.992\n",
      "epoch:17 | 0.116 - 0.99\n",
      "epoch:18 | 0.116 - 0.992\n"
     ]
    },
    {
     "name": "stderr",
     "output_type": "stream",
     "text": [
      "No artists with labels found to put in legend.  Note that artists whose label start with an underscore are ignored when legend() is called with no argument.\n"
     ]
    },
    {
     "name": "stdout",
     "output_type": "stream",
     "text": [
      "epoch:19 | 0.117 - 0.993\n",
      "============== 12/16 ==============\n",
      "epoch:0 | 0.116 - 0.108\n",
      "epoch:1 | 0.116 - 0.425\n",
      "epoch:2 | 0.117 - 0.583\n",
      "epoch:3 | 0.116 - 0.673\n",
      "epoch:4 | 0.116 - 0.675\n",
      "epoch:5 | 0.116 - 0.68\n",
      "epoch:6 | 0.116 - 0.691\n",
      "epoch:7 | 0.116 - 0.698\n",
      "epoch:8 | 0.116 - 0.696\n",
      "epoch:9 | 0.116 - 0.704\n",
      "epoch:10 | 0.116 - 0.7\n",
      "epoch:11 | 0.116 - 0.709\n",
      "epoch:12 | 0.116 - 0.707\n",
      "epoch:13 | 0.116 - 0.777\n",
      "epoch:14 | 0.116 - 0.779\n",
      "epoch:15 | 0.116 - 0.874\n",
      "epoch:16 | 0.116 - 0.877\n",
      "epoch:17 | 0.116 - 0.885\n",
      "epoch:18 | 0.116 - 0.836\n",
      "epoch:19 | 0.116 - 0.893\n"
     ]
    },
    {
     "name": "stderr",
     "output_type": "stream",
     "text": [
      "No artists with labels found to put in legend.  Note that artists whose label start with an underscore are ignored when legend() is called with no argument.\n"
     ]
    },
    {
     "name": "stdout",
     "output_type": "stream",
     "text": [
      "============== 13/16 ==============\n",
      "epoch:0 | 0.117 - 0.09\n",
      "epoch:1 | 0.117 - 0.292\n",
      "epoch:2 | 0.117 - 0.486\n",
      "epoch:3 | 0.117 - 0.536\n",
      "epoch:4 | 0.117 - 0.565\n",
      "epoch:5 | 0.117 - 0.571\n",
      "epoch:6 | 0.117 - 0.587\n",
      "epoch:7 | 0.117 - 0.603\n",
      "epoch:8 | 0.117 - 0.602\n",
      "epoch:9 | 0.117 - 0.587\n",
      "epoch:10 | 0.117 - 0.611\n",
      "epoch:11 | 0.116 - 0.607\n",
      "epoch:12 | 0.116 - 0.604\n",
      "epoch:13 | 0.116 - 0.614\n",
      "epoch:14 | 0.116 - 0.615\n",
      "epoch:15 | 0.116 - 0.613\n",
      "epoch:16 | 0.116 - 0.614\n",
      "epoch:17 | 0.117 - 0.615\n",
      "epoch:18 | 0.117 - 0.575\n"
     ]
    },
    {
     "name": "stderr",
     "output_type": "stream",
     "text": [
      "No artists with labels found to put in legend.  Note that artists whose label start with an underscore are ignored when legend() is called with no argument.\n"
     ]
    },
    {
     "name": "stdout",
     "output_type": "stream",
     "text": [
      "epoch:19 | 0.117 - 0.613\n",
      "============== 14/16 ==============\n",
      "epoch:0 | 0.117 - 0.109\n",
      "epoch:1 | 0.116 - 0.481\n",
      "epoch:2 | 0.117 - 0.488\n",
      "epoch:3 | 0.117 - 0.521\n",
      "epoch:4 | 0.117 - 0.577\n",
      "epoch:5 | 0.117 - 0.576\n",
      "epoch:6 | 0.117 - 0.584\n",
      "epoch:7 | 0.117 - 0.602\n",
      "epoch:8 | 0.117 - 0.594\n",
      "epoch:9 | 0.117 - 0.61\n",
      "epoch:10 | 0.117 - 0.614\n",
      "epoch:11 | 0.117 - 0.617\n",
      "epoch:12 | 0.117 - 0.65\n",
      "epoch:13 | 0.117 - 0.681\n",
      "epoch:14 | 0.117 - 0.697\n",
      "epoch:15 | 0.116 - 0.696\n",
      "epoch:16 | 0.116 - 0.698\n",
      "epoch:17 | 0.116 - 0.7\n"
     ]
    },
    {
     "name": "stderr",
     "output_type": "stream",
     "text": [
      "No artists with labels found to put in legend.  Note that artists whose label start with an underscore are ignored when legend() is called with no argument.\n"
     ]
    },
    {
     "name": "stdout",
     "output_type": "stream",
     "text": [
      "epoch:18 | 0.117 - 0.699\n",
      "epoch:19 | 0.117 - 0.697\n",
      "============== 15/16 ==============\n",
      "epoch:0 | 0.099 - 0.112\n",
      "epoch:1 | 0.116 - 0.146\n",
      "epoch:2 | 0.117 - 0.332\n",
      "epoch:3 | 0.117 - 0.513\n",
      "epoch:4 | 0.117 - 0.571\n",
      "epoch:5 | 0.117 - 0.596\n",
      "epoch:6 | 0.117 - 0.56\n",
      "epoch:7 | 0.117 - 0.508\n",
      "epoch:8 | 0.117 - 0.595\n",
      "epoch:9 | 0.117 - 0.606\n",
      "epoch:10 | 0.117 - 0.605\n",
      "epoch:11 | 0.117 - 0.609\n",
      "epoch:12 | 0.117 - 0.604\n",
      "epoch:13 | 0.117 - 0.61\n",
      "epoch:14 | 0.117 - 0.597\n",
      "epoch:15 | 0.117 - 0.608\n",
      "epoch:16 | 0.117 - 0.609\n",
      "epoch:17 | 0.117 - 0.61\n",
      "epoch:18 | 0.117 - 0.609\n"
     ]
    },
    {
     "name": "stderr",
     "output_type": "stream",
     "text": [
      "No artists with labels found to put in legend.  Note that artists whose label start with an underscore are ignored when legend() is called with no argument.\n"
     ]
    },
    {
     "name": "stdout",
     "output_type": "stream",
     "text": [
      "epoch:19 | 0.117 - 0.61\n",
      "============== 16/16 ==============\n",
      "epoch:0 | 0.117 - 0.136\n",
      "epoch:1 | 0.117 - 0.316\n",
      "epoch:2 | 0.117 - 0.404\n",
      "epoch:3 | 0.116 - 0.404\n",
      "epoch:4 | 0.116 - 0.381\n",
      "epoch:5 | 0.116 - 0.422\n",
      "epoch:6 | 0.116 - 0.424\n",
      "epoch:7 | 0.116 - 0.426\n",
      "epoch:8 | 0.116 - 0.429\n",
      "epoch:9 | 0.116 - 0.429\n",
      "epoch:10 | 0.116 - 0.4\n",
      "epoch:11 | 0.116 - 0.429\n",
      "epoch:12 | 0.116 - 0.432\n",
      "epoch:13 | 0.116 - 0.432\n",
      "epoch:14 | 0.116 - 0.431\n",
      "epoch:15 | 0.116 - 0.432\n",
      "epoch:16 | 0.116 - 0.432\n",
      "epoch:17 | 0.116 - 0.433\n",
      "epoch:18 | 0.116 - 0.432\n",
      "epoch:19 | 0.117 - 0.432\n"
     ]
    },
    {
     "data": {
      "image/png": "[encoded data removed]",
      "text/plain": [
       "<Figure size 432x288 with 16 Axes>"
      ]
     },
     "metadata": {
      "needs_background": "light"
     },
     "output_type": "display_data"
    },
    {
     "data": {
      "text/plain": [
       "<Figure size 1800x2160 with 0 Axes>"
      ]
     },
     "metadata": {},
     "output_type": "display_data"
    }
   ],
   "source": [
    "# 배치 정규화 계층 사용 여부에 따른 학습 진도\n",
    "\n",
    "import sys, os\n",
    "sys.path.append('/Users/krc/Downloads/deep-learning-from-scratch-master/ch06')  # 부모 디렉터리의 파일을 가져올 수 있도록 설정\n",
    "import numpy as np\n",
    "import matplotlib.pyplot as plt\n",
    "from dataset.mnist import load_mnist\n",
    "from common.multi_layer_net_extend import MultiLayerNetExtend\n",
    "from common.optimizer import SGD, Adam\n",
    "\n",
    "(x_train, t_train), (x_test, t_test) = load_mnist(normalize=True)\n",
    "\n",
    "# 학습 데이터를 줄임\n",
    "x_train = x_train[:1000]\n",
    "t_train = t_train[:1000]\n",
    "\n",
    "max_epochs = 20\n",
    "train_size = x_train.shape[0]\n",
    "batch_size = 100\n",
    "learning_rate = 0.01\n",
    "\n",
    "\n",
    "def __train(weight_init_std):\n",
    "    bn_network = MultiLayerNetExtend(input_size=784, hidden_size_list=[100, 100, 100, 100, 100], output_size=10, \n",
    "                                    weight_init_std=weight_init_std, use_batchnorm=True)\n",
    "    network = MultiLayerNetExtend(input_size=784, hidden_size_list=[100, 100, 100, 100, 100], output_size=10,\n",
    "                                weight_init_std=weight_init_std)\n",
    "    optimizer = SGD(lr=learning_rate)\n",
    "    \n",
    "    train_acc_list = []\n",
    "    bn_train_acc_list = []\n",
    "    \n",
    "    iter_per_epoch = max(train_size / batch_size, 1)\n",
    "    epoch_cnt = 0\n",
    "    \n",
    "    for i in range(1000000000):\n",
    "        batch_mask = np.random.choice(train_size, batch_size)\n",
    "        x_batch = x_train[batch_mask]\n",
    "        t_batch = t_train[batch_mask]\n",
    "    \n",
    "        for _network in (bn_network, network):\n",
    "            grads = _network.gradient(x_batch, t_batch)\n",
    "            optimizer.update(_network.params, grads)\n",
    "    \n",
    "        if i % iter_per_epoch == 0:\n",
    "            train_acc = network.accuracy(x_train, t_train)\n",
    "            bn_train_acc = bn_network.accuracy(x_train, t_train)\n",
    "            train_acc_list.append(train_acc)\n",
    "            bn_train_acc_list.append(bn_train_acc)\n",
    "    \n",
    "            print(\"epoch:\" + str(epoch_cnt) + \" | \" + str(train_acc) + \" - \" + str(bn_train_acc))\n",
    "    \n",
    "            epoch_cnt += 1\n",
    "            if epoch_cnt >= max_epochs:\n",
    "                break\n",
    "                \n",
    "    return train_acc_list, bn_train_acc_list\n",
    "\n",
    "\n",
    "# 그래프 그리기==========\n",
    "weight_scale_list = np.logspace(0, -4, num=16)\n",
    "x = np.arange(max_epochs)\n",
    "\n",
    "for i, w in enumerate(weight_scale_list):\n",
    "    print( \"============== \" + str(i+1) + \"/16\" + \" ==============\")\n",
    "    train_acc_list, bn_train_acc_list = __train(w)\n",
    "    \n",
    "    plt.subplot(4,4,i+1)\n",
    "    plt.title(\"W:\" + str(w))\n",
    "    if i == 15:\n",
    "        plt.plot(x, bn_train_acc_list, label='Batch Normalization', markevery=2)\n",
    "        plt.plot(x, train_acc_list, linestyle = \"--\", label='Normal(without BatchNorm)', markevery=2)\n",
    "    else:\n",
    "        plt.plot(x, bn_train_acc_list, markevery=2)\n",
    "        plt.plot(x, train_acc_list, linestyle=\"--\", markevery=2)\n",
    "\n",
    "    plt.ylim(0, 1.0)\n",
    "    if i % 4:\n",
    "        plt.yticks([])\n",
    "    else:\n",
    "        plt.ylabel(\"accuracy\")\n",
    "    if i < 12:\n",
    "        plt.xticks([])\n",
    "    else:\n",
    "        plt.xlabel(\"epochs\")\n",
    "    plt.legend(loc='lower right')\n",
    "\n",
    "plt.figure(figsize=(25,30))    \n",
    "plt.show()"
   ]
  },
  {
   "cell_type": "markdown",
   "metadata": {},
   "source": [
    "### 한 줄 정리 \n",
    "\n",
    ": 베치 정규화를 사용하면 학습이 빨라지고, 가중치 초깃값에 크게 의존하지 않아도 된다. "
   ]
  }
 ],
 "metadata": {
  "interpreter": {
   "hash": "4685cf8fad66a3b5e1d83fe36d59de227ad64c6532a47c7a0b6e8e6da20ed48b"
  },
  "kernelspec": {
   "display_name": "Python 3.8.13 ('krc')",
   "language": "python",
   "name": "python3"
  },
  "language_info": {
   "codemirror_mode": {
    "name": "ipython",
    "version": 3
   },
   "file_extension": ".py",
   "mimetype": "text/x-python",
   "name": "python",
   "nbconvert_exporter": "python",
   "pygments_lexer": "ipython3",
   "version": "3.8.13"
  },
  "orig_nbformat": 4
 },
 "nbformat": 4,
 "nbformat_minor": 2
}
