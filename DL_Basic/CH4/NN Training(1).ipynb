{
 "cells": [
  {
   "cell_type": "code",
   "execution_count": 1,
   "metadata": {},
   "outputs": [],
   "source": [
    "# 기울기\n",
    "def numerical_gradient(f, x):\n",
    "    h = 1e-4\n",
    "    grad = np.zeros_like(x) # x와 형상이 같은 배열 생성\n",
    "\n",
    "    for idx in range(x.size):\n",
    "        tmp_val = x[idx]  # f(x+h) 계산\n",
    "\n",
    "        x[idx] = tmp_val + h\n",
    "        fxh1 = f(x)\n",
    "\n",
    "        x[idx] = tmp_val - h   # f(x-h) 계산\n",
    "        fxh2 = f(x)\n",
    "\n",
    "        grad[idx] = (fxh1 - fxh2) / (2 * h)\n",
    "        x[idx] = tmp_val  # 값 복원\n",
    "        \n",
    "        return grad"
   ]
  },
  {
   "cell_type": "code",
   "execution_count": 6,
   "metadata": {},
   "outputs": [
    {
     "name": "stdout",
     "output_type": "stream",
     "text": [
      "[6. 0.]\n",
      "[0. 0.]\n",
      "[6. 0.]\n"
     ]
    }
   ],
   "source": [
    "# 기울기는 각 지점에서 낮아지는 방향\n",
    "# 기울기가 가리키는 쪽은 각 장소에서 함수의 출력 값을 가장 크게 줄이는 방향\n",
    "\n",
    "import numpy as np\n",
    "\n",
    "def function_2(x):\n",
    "    return x[0] ** 2 + x[1] ** 2  # or return np.sum(x**2)\n",
    "\n",
    "\n",
    "print(numerical_gradient(function_2, np.array([3.0, 4.0])))  # [ 6.  8.]\n",
    "print(numerical_gradient(function_2, np.array([0.0, 2.0])))  # [ 0.  4.]\n",
    "print(numerical_gradient(function_2, np.array([3.0, 0.0])))  # [ 6.  0.]\n"
   ]
  },
  {
   "cell_type": "markdown",
   "metadata": {},
   "source": [
    "### 경사법(경사 하강법)\n",
    ": 기울기를 잘 이용해 함수의 최솟값(가능한 한 작은 값)을 찾으려는 것\n",
    "\n",
    "- 현 위치에서 기울어진 방향으로 일정 거리만큼 이동\n",
    "\n",
    "- 이동한 곳에서도 기울기 구하고, 기울어진 방향으로 나아가기 반복 → 함수의 값을 점차 줄이는 것\n",
    "\n",
    "### 학습률 \n",
    ": 한 번의 학습으로 얼만큼 학습해야 하는지, 즉 매개변수 값을 얼마나 갱신하느냐 정하는 것\n",
    "\n",
    "\n",
    "\n",
    "### 하이퍼파라미터\n",
    ": 학습률 같은 매개변수 (사람이 직접 설정하는 매개변수)"
   ]
  },
  {
   "cell_type": "code",
   "execution_count": 7,
   "metadata": {},
   "outputs": [],
   "source": [
    "# 경사 하강법 구현\n",
    "# f: 최적화하려는 함수 / init_x : 초기값 / lr : learning rate / step_num : 경사법 따른 반복 횟수  \n",
    "\n",
    "def gradient_descent(f, init_x, lr=0.01, step_num=100):\n",
    "    x = init_x\n",
    "\n",
    "    for i in range(step_num): # 기울기에 학습률 곱한 값으로 갱신하는 처리 step_num번 반복\n",
    "        grad = numerical_gradient(f, x) # 기울기\n",
    "        x -= lr * grad \n",
    "\n",
    "    return x    "
   ]
  },
  {
   "cell_type": "code",
   "execution_count": 12,
   "metadata": {},
   "outputs": [
    {
     "data": {
      "text/plain": [
       "array([-6.10953066e-10,  4.00000000e+00])"
      ]
     },
     "execution_count": 12,
     "metadata": {},
     "output_type": "execute_result"
    }
   ],
   "source": [
    "def function_2(x):\n",
    "    return x[0]**2 + x[1]**2\n",
    "\n",
    "init_x = np.array([-3.0, 4.0])\n",
    "gradient_descent(function_2, init_x=init_x, lr=0.1, step_num=100)"
   ]
  },
  {
   "cell_type": "code",
   "execution_count": 13,
   "metadata": {},
   "outputs": [
    {
     "name": "stdout",
     "output_type": "stream",
     "text": [
      "-25898425937328.36\n",
      "-2.999999939999995\n"
     ]
    }
   ],
   "source": [
    "# 학습률이 너무 큼 / lr = 10.0\n",
    "# [ -2.58983747e+13  -1.29524862e+12] 발산함\n",
    "\n",
    "init_x = np.array([-3.0, 4.0])\n",
    "x, x_history = gradient_descent(function_2, init_x, lr=10.0)\n",
    "print(x)  \n",
    "\n",
    "# 학습률이 너무 작음 / lr = 1e-10\n",
    "# [-2.99999994  3.99999992] 갱신되지 않은 채 끝나서 거의 변화 없음\n",
    "\n",
    "init_x = np.array([-3.0, 4.0])\n",
    "x, x_history = gradient_descent(function_2, init_x, lr=1e-10)\n",
    "print(x) "
   ]
  },
  {
   "cell_type": "code",
   "execution_count": 18,
   "metadata": {},
   "outputs": [],
   "source": [
    "# 간단한 신경망 구현\n",
    "import sys, os\n",
    "sys.path.append(\"/Users/krc/Downloads/deep-learning-from-scratch-master\")  # 부모 디렉터리의 파일을 가져올 수 있도록 설정\n",
    "import numpy as np\n",
    "from common.functions import softmax, cross_entropy_error\n",
    "from common.gradient import numerical_gradient\n",
    "\n",
    "\n",
    "class simpleNet:\n",
    "    def __init__(self):\n",
    "        self.W = np.random.randn(2,3) # 정규분포로 초기화\n",
    "\n",
    "    def predict(self, x):\n",
    "        return np.dot(x, self.W)\n",
    "\n",
    "    def loss(self, x, t):\n",
    "        z = self.predict(x)\n",
    "        y = softmax(z)\n",
    "        loss = cross_entropy_error(y, t)\n",
    "\n",
    "        return loss\n"
   ]
  },
  {
   "cell_type": "markdown",
   "metadata": {},
   "source": [
    "### 학습 알고리즘 구현하기\n",
    "\n",
    "##### ► 신경망 학습 4단계\n",
    "\n",
    "1. 미니배치 \n",
    ": 훈련 데이터 중 일부 무작위로 가져옴. 선별한 데이터가 미니배치 → 손실 함수 값 줄이는 것이 목표\n",
    "\n",
    "\n",
    "2. 기울기 산출\n",
    ": 미니배치의 손실 함수 값 줄이기 위해 각 가중치 매개변수 기울기 구함. → 기울기는 손실 함수 값 가장 작게 하는 방향\n",
    "\n",
    "3. 매개변수 갱신 \n",
    ": 가중치 매개변수 기울기 방향으로 아주 조금 갱신\n",
    "\n",
    "4. 반복\n",
    ": 1~3단계 반복"
   ]
  },
  {
   "cell_type": "code",
   "execution_count": 23,
   "metadata": {},
   "outputs": [],
   "source": [
    "import sys, os\n",
    "sys.path.append(\"/Users/krc/Downloads/deep-learning-from-scratch-master\")\n",
    "from common.functions import *\n",
    "from common.gradient import numerical_gradient\n",
    "\n",
    "\n",
    "class TwoLayerNet:\n",
    "\n",
    "    def __init__(self, input_size, hidden_size, output_size, weight_init_std=0.01):\n",
    "        # 가중치 초기화\n",
    "        self.params = {}\n",
    "        self.params['W1'] = weight_init_std * np.random.randn(input_size, hidden_size)\n",
    "        self.params['b1'] = np.zeros(hidden_size)\n",
    "        self.params['W2'] = weight_init_std * np.random.randn(hidden_size, output_size)\n",
    "        self.params['b2'] = np.zeros(output_size)\n",
    "\n",
    "    def predict(self, x):\n",
    "        W1, W2 = self.params['W1'], self.params['W2']\n",
    "        b1, b2 = self.params['b1'], self.params['b2']\n",
    "    \n",
    "        a1 = np.dot(x, W1) + b1\n",
    "        z1 = sigmoid(a1)\n",
    "        a2 = np.dot(z1, W2) + b2\n",
    "        y = softmax(a2)\n",
    "        \n",
    "        return y\n",
    "        \n",
    "    # x : 입력 데이터, t : 정답 레이블\n",
    "    def loss(self, x, t):\n",
    "        y = self.predict(x)\n",
    "        \n",
    "        return cross_entropy_error(y, t)\n",
    "    \n",
    "    def accuracy(self, x, t):\n",
    "        y = self.predict(x)\n",
    "        y = np.argmax(y, axis=1)\n",
    "        t = np.argmax(t, axis=1)\n",
    "        \n",
    "        accuracy = np.sum(y == t) / float(x.shape[0])\n",
    "        return accuracy\n",
    "        \n",
    "    # x : 입력 데이터, t : 정답 레이블\n",
    "    def numerical_gradient(self, x, t):\n",
    "        loss_W = lambda W: self.loss(x, t)\n",
    "        \n",
    "        grads = {}\n",
    "        grads['W1'] = numerical_gradient(loss_W, self.params['W1'])\n",
    "        grads['b1'] = numerical_gradient(loss_W, self.params['b1'])\n",
    "        grads['W2'] = numerical_gradient(loss_W, self.params['W2'])\n",
    "        grads['b2'] = numerical_gradient(loss_W, self.params['b2'])\n",
    "        \n",
    "        return grads\n",
    "        \n",
    "    def gradient(self, x, t):\n",
    "        W1, W2 = self.params['W1'], self.params['W2']\n",
    "        b1, b2 = self.params['b1'], self.params['b2']\n",
    "        grads = {}\n",
    "        \n",
    "        batch_num = x.shape[0]\n",
    "        \n",
    "        # forward\n",
    "        a1 = np.dot(x, W1) + b1\n",
    "        z1 = sigmoid(a1)\n",
    "        a2 = np.dot(z1, W2) + b2\n",
    "        y = softmax(a2)\n",
    "        \n",
    "        # backward\n",
    "        dy = (y - t) / batch_num\n",
    "        grads['W2'] = np.dot(z1.T, dy)\n",
    "        grads['b2'] = np.sum(dy, axis=0)\n",
    "        \n",
    "        da1 = np.dot(dy, W2.T)\n",
    "        dz1 = sigmoid_grad(a1) * da1\n",
    "        grads['W1'] = np.dot(x.T, dz1)\n",
    "        grads['b1'] = np.sum(dz1, axis=0)\n",
    "\n",
    "        return grads\n"
   ]
  },
  {
   "cell_type": "markdown",
   "metadata": {},
   "source": [
    "#### • loss(self, x, t) \n",
    ": 손실 함수의 값 계산하는 메서드 \n",
    "\n",
    "→ predict() 결과와 정답 레이블 바탕으로 교차 엔트로피 오차 구하도록 구현\n",
    "\n",
    "\n",
    "#### • numerical_gradient(self, x, t) \n",
    ": 각 매개변수의 기울기 계산\n",
    "\n",
    "→ 수치 미분 방식으로 각 매개변수의 손실 함수에 대한 기울기 계산"
   ]
  },
  {
   "cell_type": "code",
   "execution_count": 25,
   "metadata": {},
   "outputs": [
    {
     "name": "stdout",
     "output_type": "stream",
     "text": [
      "train acc, test acc | 0.09915, 0.1009\n",
      "train acc, test acc | 0.7760666666666667, 0.7815\n",
      "train acc, test acc | 0.8764, 0.8793\n",
      "train acc, test acc | 0.8986166666666666, 0.9016\n",
      "train acc, test acc | 0.9073666666666667, 0.9103\n",
      "train acc, test acc | 0.91365, 0.9151\n",
      "train acc, test acc | 0.9180333333333334, 0.9223\n",
      "train acc, test acc | 0.9224166666666667, 0.9259\n",
      "train acc, test acc | 0.9277, 0.9294\n",
      "train acc, test acc | 0.9303, 0.9318\n",
      "train acc, test acc | 0.9321666666666667, 0.9325\n",
      "train acc, test acc | 0.9358166666666666, 0.9352\n",
      "train acc, test acc | 0.93835, 0.9371\n",
      "train acc, test acc | 0.9404, 0.9404\n",
      "train acc, test acc | 0.94185, 0.9417\n",
      "train acc, test acc | 0.9447833333333333, 0.9434\n",
      "train acc, test acc | 0.94675, 0.9447\n"
     ]
    }
   ],
   "source": [
    "# 미니배치 학습 구현하기\n",
    "# 미니배치 학습 : 훈련 데이터 중 일부를 무작위로 꺼냄(미니배치), 미니배치에 대해 경사법으로 매개변수 갱신\n",
    "\n",
    "import sys, os\n",
    "sys.path.append(\"/Users/krc/Downloads/deep-learning-from-scratch-master/ch04\")  \n",
    "import numpy as np\n",
    "import matplotlib.pyplot as plt\n",
    "from dataset.mnist import load_mnist\n",
    "from two_layer_net import TwoLayerNet\n",
    "\n",
    "# 데이터 읽기\n",
    "(x_train, t_train), (x_test, t_test) = load_mnist(normalize=True, one_hot_label=True)\n",
    "\n",
    "network = TwoLayerNet(input_size=784, hidden_size=50, output_size=10)\n",
    "\n",
    "# 하이퍼파라미터\n",
    "iters_num = 10000  # 반복 횟수를 적절히 설정한다.\n",
    "train_size = x_train.shape[0]\n",
    "batch_size = 100   # 미니배치 크기\n",
    "learning_rate = 0.1\n",
    "\n",
    "train_loss_list = []\n",
    "train_acc_list = []\n",
    "test_acc_list = []\n",
    "\n",
    "# 1에폭당 반복 수\n",
    "iter_per_epoch = max(train_size / batch_size, 1)\n",
    "\n",
    "for i in range(iters_num):\n",
    "    # 미니배치 획득\n",
    "    batch_mask = np.random.choice(train_size, batch_size)\n",
    "    x_batch = x_train[batch_mask]\n",
    "    t_batch = t_train[batch_mask]\n",
    "    \n",
    "    # 기울기 계산\n",
    "    #grad = network.numerical_gradient(x_batch, t_batch)\n",
    "    grad = network.gradient(x_batch, t_batch)\n",
    "    \n",
    "    # 매개변수 갱신\n",
    "    for key in ('W1', 'b1', 'W2', 'b2'):\n",
    "        network.params[key] -= learning_rate * grad[key]\n",
    "    \n",
    "    # 학습 경과 기록\n",
    "    loss = network.loss(x_batch, t_batch)\n",
    "    train_loss_list.append(loss)\n",
    "    \n",
    "    # 1에폭당 정확도 계산\n",
    "    if i % iter_per_epoch == 0:\n",
    "        train_acc = network.accuracy(x_train, t_train)\n",
    "        test_acc = network.accuracy(x_test, t_test)\n",
    "        train_acc_list.append(train_acc)\n",
    "        test_acc_list.append(test_acc)\n",
    "        print(\"train acc, test acc | \" + str(train_acc) + \", \" + str(test_acc))"
   ]
  },
  {
   "cell_type": "markdown",
   "metadata": {},
   "source": [
    "##### 1. 매번 60,000개의 훈련 데이터에서 임의로 100개의 데이터(이미지 데이터, 정답 레이블 데이터) 추려냄\n",
    "\n",
    "##### 2. 100개의 미니배치 대상으로 확률적 경사 하강법 수행해 매개변수 갱신\n",
    "\n",
    "##### 3. 경사법에 의한 갱신 횟수(반복 횟수) 10,000번 설정\n",
    "\n",
    "##### 4. 갱신할 때마다 훈련 데이터에 대한 손실 함수 계산, 그 값을 배열에 추가\n",
    "\n",
    "→ 학습 횟수가 늘어나면서 손실 함수의 값 줄어든다. 신경망의 가중치 매개변수가 서서히 데이터에 적응하고 있음을 의미\n",
    "\n",
    "######\n",
    "★ 즉, 데이터를 반복해 학습함으로써 최적 가중치 매개변수로 다가가고 있음 ★"
   ]
  },
  {
   "cell_type": "code",
   "execution_count": 26,
   "metadata": {},
   "outputs": [
    {
     "data": {
      "image/png": "[encoded data removed]",
      "text/plain": [
       "<Figure size 432x288 with 1 Axes>"
      ]
     },
     "metadata": {
      "needs_background": "light"
     },
     "output_type": "display_data"
    }
   ],
   "source": [
    "# 그래프 그리기\n",
    "# 에폭이 진행될수록 정확도가 모두 좋아지고 있다. (두 선이 거의 겹쳐 있다.) → 오버피팅이 일어나지 않았다. \n",
    "\n",
    "markers = {'train': 'o', 'test': 's'}\n",
    "x = np.arange(len(train_acc_list))\n",
    "plt.plot(x, train_acc_list, label='train acc')\n",
    "plt.plot(x, test_acc_list, label='test acc', linestyle='--')\n",
    "plt.xlabel(\"epochs\")\n",
    "plt.ylabel(\"accuracy\")\n",
    "plt.ylim(0, 1.0)\n",
    "plt.legend(loc='lower right')\n",
    "plt.show()"
   ]
  },
  {
   "cell_type": "markdown",
   "metadata": {},
   "source": [
    "#### • 손실 함수의 값 \n",
    ": 훈련 데이터의 미니배치에 대한 손실 함수의 값\n",
    "\n",
    "\n",
    "#### • 오버피팅 \n",
    "\n",
    ": 훈련 데이터에 포함된 이미지만 제대로 구분하고, 그렇지 않은 이미지는 식별할 수 없다. \n",
    "\n",
    "\n",
    "#### • 에폭 \n",
    "\n",
    ": 하나의 단위\n",
    "\n",
    ": 1에폭은 학습에서 훈련 데이터를 모두 소진했을 때의 횟수 "
   ]
  },
  {
   "cell_type": "markdown",
   "metadata": {},
   "source": [
    "## 정리 \n",
    "\n",
    "### 신경망 학습 \n",
    "- 손실 함수라는 '지표' 도입 : 가장 먼저 신경망이 학습을 수행할 수 있도록\n",
    "\n",
    "- 목표 : 손실 함수 기준으로 값이 가장 작아지는 가중치 매개변수 값 찾아내는 것\n",
    "\n",
    "- 경사법 : 함수의 기울기 이용하는 방법 / 가능한 한 작은 손실 함수의 값 찾는 수법"
   ]
  }
 ],
 "metadata": {
  "interpreter": {
   "hash": "4685cf8fad66a3b5e1d83fe36d59de227ad64c6532a47c7a0b6e8e6da20ed48b"
  },
  "kernelspec": {
   "display_name": "Python 3.8.13 ('krc')",
   "language": "python",
   "name": "python3"
  },
  "language_info": {
   "codemirror_mode": {
    "name": "ipython",
    "version": 3
   },
   "file_extension": ".py",
   "mimetype": "text/x-python",
   "name": "python",
   "nbconvert_exporter": "python",
   "pygments_lexer": "ipython3",
   "version": "3.8.13"
  },
  "orig_nbformat": 4
 },
 "nbformat": 4,
 "nbformat_minor": 2
}
