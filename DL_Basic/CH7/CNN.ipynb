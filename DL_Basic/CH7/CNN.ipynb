{
 "cells": [
  {
   "cell_type": "markdown",
   "metadata": {},
   "source": [
    "### • 합성곱 신경망 (CNN)\n",
    "\n",
    ": 이미지 인식과 음성 인식 등 다양한 곳에서 사용됨  →  특히 이미지 인식 분야에서 딥러닝 활용한 기법 거의 다 CNN 기초\n",
    "\n",
    "• 합성곱 계층은 형상 유지 / 이미지도 3차원 데이터로 입력 받고, 다음 계층에도 3차원 데이터도 전달"
   ]
  },
  {
   "cell_type": "markdown",
   "metadata": {},
   "source": [
    "### • 완전 연결 \n",
    "\n",
    ": 신경망은 인접하는 계층의 모든 뉴런과 결합\n",
    "\n",
    "→ Affine 계층 ( 완전히 연결된 계층 )으로 구현"
   ]
  },
  {
   "cell_type": "markdown",
   "metadata": {},
   "source": [
    "##### ▶︎ 완전연결 계층의 문제점\n",
    "\n",
    "• 완전연결 계층은 인접하는 계층의 뉴런이 모두 연결되고 출력 수는 임의로 정할 수 있었다.\n",
    "\n",
    "→ 데이터의 형상이 무시된다 / 모든 입력 데이터를 동등한 뉴런 (같은 차원의 뉴런)으로 취급하여 형상에 담긴 정보를 살릴 수 없다. "
   ]
  },
  {
   "cell_type": "markdown",
   "metadata": {},
   "source": [
    "### • 패딩 \n",
    "\n",
    ": 합성곱 연산을 수행하기 전에 입력 데이터 주변을 특정 값 (예컨대 0)으로 채우기도 함.\n",
    "\n",
    "→ 주로 출력 크기를 조정할 목적으로 사용\n",
    "\n",
    "\n",
    "### • 스트라이드\n",
    "\n",
    ": 필터 적용하는 위치의 간격"
   ]
  },
  {
   "cell_type": "markdown",
   "metadata": {},
   "source": [
    "##### • 3차원 합성곱 연산 ( 데이터와 필터 - 직육면체 블록 )\n",
    "\n",
    "► 주의할 점\n",
    "\n",
    ": 입력 데이터의 채널 수와 필터의 채널 수가 같아야 한다. \n",
    "\n",
    "( 필터 자체의 크기 원하는 값으로 설정 가능. 다만, 모든 채널의 필터 크기가 같아야함.)"
   ]
  },
  {
   "cell_type": "markdown",
   "metadata": {},
   "source": [
    "### • 배치 처리 \n",
    "\n",
    "• 신경망 처리에서는 입력 데이터를 한 덩어리로 묶어 배치로 처리\n",
    "\n",
    "→ 완전연결 신경망을 구현하면서 이 방식을 지원하여 처리 효율 높이고, 미니배치 방식의 학습도 지원"
   ]
  },
  {
   "cell_type": "markdown",
   "metadata": {},
   "source": [
    "### • 풀링 계층 \n",
    "\n",
    ": 세로, 가로 방향의 공간을 줄이는 연산 \n",
    "\n",
    "▶︎ 특징\n",
    "\n",
    "1. 학습해야 할 매개변수가 없다.\n",
    "\n",
    ": 풀링은 대상 영역에서 최댓값이나 평균 취하는 명확한 처리이므로 \n",
    "\n",
    "2. 채널 수 변하지 않는다.\n",
    "\n",
    ": 입력 데이터의 채널 수 그대로 출력 데이터로 내보낸다.\n",
    "\n",
    "\n",
    "3. 입력 변화에 영향을 적게 받는다 (강건하다)\n",
    "\n",
    ": 입력 데이터가 조금 변해도 풀링의 결과는 잘 변하지 않는다. \n"
   ]
  },
  {
   "cell_type": "code",
   "execution_count": 3,
   "metadata": {},
   "outputs": [
    {
     "data": {
      "text/plain": [
       "(10, 1, 28, 28)"
      ]
     },
     "execution_count": 3,
     "metadata": {},
     "output_type": "execute_result"
    }
   ],
   "source": [
    "# 4차원 배열 구현 \n",
    "import numpy as np\n",
    "\n",
    "x = np.random.rand(10, 1, 28, 28) # 무작위로 데이터 생성\n",
    "x.shape"
   ]
  },
  {
   "cell_type": "code",
   "execution_count": 6,
   "metadata": {},
   "outputs": [
    {
     "name": "stdout",
     "output_type": "stream",
     "text": [
      "(1, 28, 28)\n",
      "(1, 28, 28)\n"
     ]
    }
   ],
   "source": [
    "print(x[0].shape) \n",
    "print(x[1].shape)\n",
    "\n",
    "# CNN은 4차원 데이터 다룬다. 합성곱 연산 구현이 복잡해질 것 같지만, im2col이라는 '트릭'이 문제를 단순하게 만든다."
   ]
  },
  {
   "cell_type": "markdown",
   "metadata": {},
   "source": [
    "### • im2col \n",
    "\n",
    ": 입력 데이터를 필터링(가중치 계산)하기 좋게 전개하는(펼치는) 함수 \n",
    "\n",
    "###\n",
    "→ 3차원 입력 데이터에 im2col 적용하면 2차원 행렬로 바뀜 \n",
    "\n",
    "(정확히는 배치 안의 데이터 수까지 포함한 4차원 데이터 2차원으로 변환)\n",
    "\n",
    "\n",
    "#### \n",
    "▶︎ CNN은 데이터를 4차원 배열로 저장하므로 2차원인 출력 데이터를 4차원으로 변형 (합성곱 계층의 구현 흐름) "
   ]
  },
  {
   "cell_type": "code",
   "execution_count": 8,
   "metadata": {},
   "outputs": [],
   "source": [
    "# im2col 함수 구현\n",
    "\n",
    "def im2col(input_data, filter_h, filter_w, stride=1, pad=0):\n",
    "    \"\"\"다수의 이미지를 입력받아 2차원 배열로 변환한다(평탄화).\n",
    "    \n",
    "    Parameters\n",
    "    ----------\n",
    "    input_data : 4차원 배열 형태의 입력 데이터(이미지 수, 채널 수, 높이, 너비)\n",
    "    filter_h : 필터의 높이\n",
    "    filter_w : 필터의 너비\n",
    "    stride : 스트라이드\n",
    "    pad : 패딩 \"\"\"\n"
   ]
  },
  {
   "cell_type": "code",
   "execution_count": 11,
   "metadata": {},
   "outputs": [
    {
     "name": "stdout",
     "output_type": "stream",
     "text": [
      "(9, 75)\n",
      "(90, 75)\n"
     ]
    }
   ],
   "source": [
    "import sys, os\n",
    "sys.path.append('/Users/krc/Downloads/deep-learning-from-scratch-master')\n",
    "from common.util import im2col\n",
    "\n",
    "x1 = np.random.rand(1, 3, 7, 7) # (데이터 수, 채널 수, 높이, 너비)\n",
    "col1 = im2col(x1, 5, 5, stride=1, pad=0)\n",
    "print(col1.shape)\n",
    "\n",
    "x2 = np.random.rand(10, 3, 7, 7) # (데이터 10개)\n",
    "col2 = im2col(x2, 5, 5, stride=1, pad=0)\n",
    "print(col2.shape)"
   ]
  },
  {
   "cell_type": "code",
   "execution_count": 12,
   "metadata": {},
   "outputs": [],
   "source": [
    "class Convolution:\n",
    "    def __init__(self, w, b, stride=1, pad=0):\n",
    "        self.w = w\n",
    "        self.b = b\n",
    "        self.stride = stride\n",
    "        self.pad = pad\n",
    "    \n",
    "    def forward(self, x):\n",
    "        FN, C, FH, FW = self.w.shape\n",
    "        N, C, H, W = x.shape\n",
    "        out_h = int( 1+ (H + 2*self.pad - FH) / self.stride)\n",
    "        out_w = int(1 + ( W + 2*self.pad - FW) / self.stride) \n",
    "\n",
    "        # 중요한 부분 \n",
    "        # → 입력 데이터를 im2col로 전개하고 필터도 reshape을 사용하여 2차원 배열로 전개 후 전개한 두 행렬의 곱 구함 \n",
    "        col = im2col(x, FH, FW, self.stride, self.pad)\n",
    "        col_w  = self.w.reshape(FN, -1).T  # 필터 전개 / reshape 두번째 인수 -1로 지정했는데 reshape이 제공하는 편의 기능\n",
    "        out = np.dot(co1, col_w) + self.b\n",
    "\n",
    "        out = out.reshape(N, out_h, out_w, -1).transpose(0, 3, 1, 2) # 출력 데이터를 적절한 형상으로 바꾸어 준다.\n",
    "\n",
    "        return out    \n",
    "\n",
    "# reshape에 -1 지정하면 다차원 배열 원소 수가 변환 후에도 똑같이 유지되게 적절히 묶어준다. \n",
    "# 앞 코드에서 (10, 3, 5, 5) 형상한 다차원 배열 w 원소 수는 총 750개\n",
    "# 이 배열에 reshape(10, -1) 호출하면 750개 원소를 10묶음으로, 즉 형상이 (10,75)인 배열 만들어준다. "
   ]
  },
  {
   "cell_type": "code",
   "execution_count": 13,
   "metadata": {},
   "outputs": [],
   "source": [
    "# 풀링 계층 구현 \n",
    "\n",
    "class Pooling:\n",
    "    def __init__(self, pool_h, pool_w, stride=1, pad=0):\n",
    "        self.pool_h = pool_h\n",
    "        self.pool_w = pool_w\n",
    "        self.stride = stride\n",
    "        self.pad = pad\n",
    "        \n",
    "        self.x = None\n",
    "        self.arg_max = None\n",
    "\n",
    "    def forward(self, x):\n",
    "        N, C, H, W = x.shape\n",
    "        out_h = int(1 + (H - self.pool_h) / self.stride)\n",
    "        out_w = int(1 + (W - self.pool_w) / self.stride)\n",
    "\n",
    "        col = im2col(x, self.pool_h, self.pool_w, self.stride, self.pad)\n",
    "        col = col.reshape(-1, self.pool_h*self.pool_w)\n",
    "\n",
    "        arg_max = np.argmax(col, axis=1)\n",
    "        out = np.max(col, axis=1)\n",
    "        out = out.reshape(N, out_h, out_w, C).transpose(0, 3, 1, 2)\n",
    "\n",
    "        self.x = x\n",
    "        self.arg_max = arg_max\n",
    "\n",
    "        return out\n",
    "\n",
    "    def backward(self, dout):\n",
    "        dout = dout.transpose(0, 2, 3, 1)\n",
    "        \n",
    "        pool_size = self.pool_h * self.pool_w\n",
    "        dmax = np.zeros((dout.size, pool_size))\n",
    "        dmax[np.arange(self.arg_max.size), self.arg_max.flatten()] = dout.flatten()\n",
    "        dmax = dmax.reshape(dout.shape + (pool_size,)) \n",
    "        \n",
    "        dcol = dmax.reshape(dmax.shape[0] * dmax.shape[1] * dmax.shape[2], -1)\n",
    "        dx = col2im(dcol, self.x.shape, self.pool_h, self.pool_w, self.stride, self.pad)\n",
    "        \n",
    "        return dx\n"
   ]
  },
  {
   "cell_type": "markdown",
   "metadata": {},
   "source": [
    "### • 풀링 계층 구현 \n",
    "\n",
    "1. 입력 데이터 전개한다.\n",
    "\n",
    "2. 행별 최댓값 구한다.\n",
    "\n",
    "3. 적절한 모양으로 성형한다.\n",
    "\n",
    "####\n",
    "• 2차원 배열, 즉 행렬이라면 axis=0은 열 방향, axis=1은 행 방향"
   ]
  }
 ],
 "metadata": {
  "interpreter": {
   "hash": "4685cf8fad66a3b5e1d83fe36d59de227ad64c6532a47c7a0b6e8e6da20ed48b"
  },
  "kernelspec": {
   "display_name": "Python 3.8.13 ('krc')",
   "language": "python",
   "name": "python3"
  },
  "language_info": {
   "codemirror_mode": {
    "name": "ipython",
    "version": 3
   },
   "file_extension": ".py",
   "mimetype": "text/x-python",
   "name": "python",
   "nbconvert_exporter": "python",
   "pygments_lexer": "ipython3",
   "version": "3.8.13"
  },
  "orig_nbformat": 4
 },
 "nbformat": 4,
 "nbformat_minor": 2
}
